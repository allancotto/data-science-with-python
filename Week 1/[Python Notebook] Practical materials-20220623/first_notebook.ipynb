{
  "nbformat": 4,
  "nbformat_minor": 0,
  "metadata": {
    "colab": {
      "name": "first_notebook.ipynb",
      "provenance": [],
      "collapsed_sections": []
    },
    "kernelspec": {
      "name": "python3",
      "display_name": "Python 3"
    },
    "language_info": {
      "name": "python"
    }
  },
  "cells": [
    {
      "cell_type": "markdown",
      "source": [
        "## 0.0 A Basic Program\n",
        "\n",
        "\n",
        "At it's heart, Python is programming language. However, with the Jupyter notebook we are using here this task can simply be re-cast a tool for systematically documenting the steps of analysis.  So each cell you will tell the computer a specific set of actions to take.  By using text commands as opposed to graphical clicks, we improve the documentation of the analysis. This overall makes the scientific work being presented more repeatable.  \n",
        "\n",
        "### So how does this work?\n",
        "\n",
        "In the next cell you will type:\n",
        "\n",
        "``` \n",
        "print('Hello world')\n",
        "\n",
        "```\n",
        "then press 'Shift + Enter' together to execute the code.  The ```print()```command will have the computer print the **sting** of text in between the two ```''```.  \n",
        "\n",
        "This is the classic first line of code most people are asked to write. With that one line in a single cell you have now written your first program.\n",
        "\n",
        "This notebook can be thought of then as series of linked mini-programs that you will control to reproduce the  figure above, but with some changes to colour and plotting.\n",
        "\n",
        "**Action 0** Write / type out the hello world code (above) in the code cell below and execute it (by pressing Shift + Enter at the same time)"
      ],
      "metadata": {
        "id": "ctnSUnRM8ySg"
      }
    },
    {
      "cell_type": "code",
      "execution_count": null,
      "metadata": {
        "id": "GgB5CO4Y7eSH"
      },
      "outputs": [],
      "source": [
        "### enter your code here####\n",
        "\n",
        "##Note a '#' is used to **comment out** code. So in a code cell if there is a # in front of code or words it will be ignored. "
      ]
    }
  ]
}