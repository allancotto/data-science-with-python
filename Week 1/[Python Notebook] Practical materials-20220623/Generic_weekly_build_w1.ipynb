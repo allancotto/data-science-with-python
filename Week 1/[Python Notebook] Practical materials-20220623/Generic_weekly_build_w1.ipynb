{
  "nbformat": 4,
  "nbformat_minor": 0,
  "metadata": {
    "colab": {
      "name": "Generic_weekly_build.ipynb",
      "provenance": [],
      "collapsed_sections": []
    },
    "kernelspec": {
      "name": "python3",
      "display_name": "Python 3"
    },
    "language_info": {
      "name": "python"
    }
  },
  "cells": [
    {
      "cell_type": "code",
      "execution_count": null,
      "metadata": {
        "id": "uyV3EUnDl9MH"
      },
      "outputs": [],
      "source": [
        "%matplotlib inline\n",
        "\n",
        "\n",
        "import matplotlib.pyplot as plt\n",
        "import pandas as pd\n",
        "import numpy as np\n",
        "\n",
        "import sklearn as skl\n",
        "import scipy as sci\n",
        "import scipy.io as sio\n",
        "\n",
        "\n",
        "#configure the plotting defaluts\n",
        "plt.rcParams['figure.figsize'] = [15.256 , 6.024]\n",
        "plt.rcParams['figure.dpi'] = 125 "
      ]
    },
    {
      "cell_type": "code",
      "source": [
        "from google.colab import drive\n",
        "\n",
        "drive.mount('/content/drive/', force_remount=True)\n",
        "\n",
        "data_path='/content/drive/My Drive/2022_SFC_IDS/datasets/'\n",
        "results_path='/content/drive/My Drive/2022_SFC_IDS/Week_1/'"
      ],
      "metadata": {
        "id": "-6CIwOnfmh4b",
        "colab": {
          "base_uri": "https://localhost:8080/"
        },
        "outputId": "164f7ee3-0680-49c9-d98f-b948fbfe423c"
      },
      "execution_count": null,
      "outputs": [
        {
          "output_type": "stream",
          "name": "stdout",
          "text": [
            "Mounted at /content/drive/\n"
          ]
        }
      ]
    },
    {
      "cell_type": "code",
      "source": [
        ""
      ],
      "metadata": {
        "id": "wN_FFqVsTFJR"
      },
      "execution_count": null,
      "outputs": []
    }
  ]
}