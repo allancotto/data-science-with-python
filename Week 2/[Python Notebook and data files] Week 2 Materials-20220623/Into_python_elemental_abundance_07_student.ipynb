{
  "cells": [
    {
      "cell_type": "markdown",
      "id": "16d5fd4d",
      "metadata": {
        "id": "16d5fd4d"
      },
      "source": [
        "# Intro to Python\n",
        "\n",
        "## 0.0 Purpose of this lecture\n",
        "\n",
        "\n",
        "\n",
        "There are two parts to this lab:\n",
        "\n",
        "1) To expose you to the Python data analysis enviroment.\n",
        "\n",
        "a) Gain experience writing simple programs using the Matplotlib module in Python\n",
        "\n",
        "b) To develop skills in scientific plotting using Python.\n",
        "\n",
        "\n",
        "2) Along the way we are going to discover some intereseting insights into elemental abundance in the solar system and the earth.\n",
        "\n",
        "Through out this workshop there are three different activities that you will encounter.\n",
        "\n",
        "1) **Example** code cells.  These will contain lines of code that demonstrate a type of analysis task.  You will need to run these as their **output** will be used by subsequent steps (i.e. by other cells) in the analysis.\n",
        "\n",
        "2) **Action** which will be associated with blank cells that you need to write the correct code based off of text and example code that have been demonstrated to you.\n",
        "\n",
        "3) **Questions** this final category are queries asking you to think about the scientific aspect of the data that you working with.  To answer these we will encourage you to **insert** a blank cell below the question and then type your text answer in the cell. You will need to set this cell to **Markdown** using the drop-down tool above.\n",
        "\n"
      ]
    },
    {
      "cell_type": "markdown",
      "id": "5a0d1b9a",
      "metadata": {
        "id": "5a0d1b9a"
      },
      "source": [
        "## 0.5 Getting set up.\n",
        "\n",
        "Now that you have run your first program lets get the notebook set up for your data analysis experiment.\n",
        "\n",
        "Python is a open-source high-level programming language. It is also currently one of the most in demand tools in a wide range of industries, including environmental and geo resources organisation,  for data analysis, machine learning and artificial intelligence applications. Both of these facts mean that communities of researchers and engineers have developed a wide range of freely accessible tools which extend the basic functions of the base python language. All these additional tools mean that you as a user do not need to write 10's to 100's of lines of code to perform common actions like plotting, arranging data into nice human readable arrays / tables or figuring out how to import arbitrary data file formats.  A bundle of these tools is called a library.\n",
        "\n",
        "For this lab we will be using two libraries extensively.  The first is called ```pandas```, which is a great tool for looking at data in a spreadsheet like manner. We will explore these functions below.  Additionally, whenever you have data, one of the main tasks a researcher will ask of the data is what does it look like like?  To do that ones needs plotting tool. While ```pandas``` has some built in plotting, this is built on another library, ```matplotlib```. With that in mind run the next cell to load these libraries by either pressing **shift + enter** simultaneously (fastest method) or pressing the big **run** button above."
      ]
    },
    {
      "cell_type": "markdown",
      "source": [
        "### 0.5.1 Standard libaries for course\n",
        "** Note** These next two code cells will need to be run before the start of every lecture and practical  "
      ],
      "metadata": {
        "id": "s_J2Mut19Ony"
      },
      "id": "s_J2Mut19Ony"
    },
    {
      "cell_type": "code",
      "execution_count": null,
      "id": "fc93ce99",
      "metadata": {
        "id": "fc93ce99"
      },
      "outputs": [],
      "source": [
        "%matplotlib inline\n",
        "\n",
        "\n",
        "import matplotlib.pyplot as plt\n",
        "import pandas as pd\n",
        "import numpy as np\n",
        "\n",
        "import sklearn as skl\n",
        "import scipy as sci\n",
        "import scipy.io as sio\n",
        "\n",
        "#configure the plotting defaluts\n",
        "plt.rcParams['figure.figsize'] = [15.256 , 6.024]\n",
        "plt.rcParams['figure.dpi'] = 125 "
      ]
    },
    {
      "cell_type": "markdown",
      "source": [
        "### 0.5.2 Commands to connect to you local google drive"
      ],
      "metadata": {
        "id": "gQ1gVxTT3tvQ"
      },
      "id": "gQ1gVxTT3tvQ"
    },
    {
      "cell_type": "code",
      "source": [
        "from google.colab import drive\n",
        "\n",
        "drive.mount('/content/drive/', force_remount=True)\n",
        "\n",
        "data_path='/content/drive/My Drive/2022_SFC_IDSP/datasets/'\n",
        "results_path='/content/drive/My Drive/2022_SFC_IDSP/Week_2/'"
      ],
      "metadata": {
        "id": "fJDKd7XD3ndr",
        "colab": {
          "base_uri": "https://localhost:8080/"
        },
        "outputId": "337a5f53-ec1a-41e5-d5a7-ea449aad649e"
      },
      "id": "fJDKd7XD3ndr",
      "execution_count": null,
      "outputs": [
        {
          "output_type": "stream",
          "name": "stdout",
          "text": [
            "Mounted at /content/drive/\n"
          ]
        }
      ]
    },
    {
      "cell_type": "markdown",
      "source": [
        "**Note** if you want to disconnect your drive use this command\n",
        "\n",
        "#### 0.5.3 Unmount a drive"
      ],
      "metadata": {
        "id": "S-s5GBWRiCx1"
      },
      "id": "S-s5GBWRiCx1"
    },
    {
      "cell_type": "code",
      "source": [
        "drive.flush_and_unmount()\n"
      ],
      "metadata": {
        "id": "vXVUxarGWCip",
        "colab": {
          "base_uri": "https://localhost:8080/"
        },
        "outputId": "b96f004c-9464-426a-c391-3d24bb97a615"
      },
      "id": "vXVUxarGWCip",
      "execution_count": null,
      "outputs": [
        {
          "output_type": "stream",
          "name": "stdout",
          "text": [
            "Drive not mounted, so nothing to flush and unmount.\n"
          ]
        }
      ]
    },
    {
      "cell_type": "markdown",
      "id": "9573fdec",
      "metadata": {
        "id": "9573fdec"
      },
      "source": [
        "\n",
        "\n",
        "\n",
        "\n",
        "\n",
        "## 1.0 Get some data!\n",
        "\n",
        "\n",
        "\n",
        "1) the composition for the silicate earth is derived from Newsom 1995 (Global Earth Physics: A Handbook of Physical Constants), by averaging the first 5 columns of table 13.\n",
        "\n",
        "2) the average CI composition comes from Lodders 2003(Astronomical Journal)\n",
        "\n",
        "3) the D values or the partition coefficients come from https://link.springer.com/referenceworkentry/10.1007%2F1-4020-4496-8_110\n",
        "\n",
        "\n",
        "To load the data using the pandas library's built in functions.  In this case can read (/import) in an excel file directly you will call the datafile in using the Pandas function ```read_excel```.\n",
        "\n",
        "1) to call a function from a particular library you need to tell python what library we are using. From the cell above you can see that we imported the ``` pandas ``` libary as ``` pd ```. \n",
        "\n",
        "2) Then in python you can see what functions (think actions the software can take on an object) are available typing a '.' and then typing out the appropriate function. For example to load a spread sheet you will type:\n",
        "\n",
        "```pd.read_excel('enter_the_file_name' )```\n",
        "\n",
        "**note** Pandas also has built in functions for loading CSV, XML, HDF5 and other standard file formats. In classing coding speak to find out more check the help function or ''Read the Docs'' :-)\n"
      ]
    },
    {
      "cell_type": "markdown",
      "source": [
        "### 1.1 Aside on Variables \n",
        "\n",
        "The command above will load a file, but we want a way to refer to that **object** every time. Or to phase it another way, I want a shorthand method to writing ```pd.read_excel('enter_the_file_name' )``` that is more compact. As this named object is a bit of **data** we will refer to it as a **variable**. This describes the role that the data plays in the analysis, and the fact that we can change the data, as opposed to chaning the actions that will be done to the data. In programming there are many variables that one will encounter and create, but here we want to remember that it is just a name for a specific bit of data."
      ],
      "metadata": {
        "id": "7olMAbzQyydF"
      },
      "id": "7olMAbzQyydF"
    },
    {
      "cell_type": "markdown",
      "source": [
        "#### 1.1.1 Some nameing rules\n",
        "**Variables** can be named anything you like subject to a few rules. \n",
        "\n",
        "1) In python they can not start with numbers or special characters/ symbols. \n",
        "\n",
        "2) Further good practice would dictate that you using something that is memorable, and specific.  Here I suggest using the name **'composition'** since we are going to load the composition of the solar system and the silicate earth."
      ],
      "metadata": {
        "id": "5owevSD-zIkl"
      },
      "id": "5owevSD-zIkl"
    },
    {
      "cell_type": "markdown",
      "source": [
        "\n",
        "\n",
        "\n",
        "\n",
        "\n",
        "\n",
        "### 1.2 Example 1 Load the data\n",
        "\n",
        "**Example/ Getting started/ action 0**\n",
        "By loading the data into 'composition', we can then type out the variable name and see what it looks like.  Since we have loaded the data using ```pandas``` (here abbreviated to ```pd``` by how we imported so you do not need to type out the full library every time). The data frame will look like an excel spreadsheet, but this called a **data frame**.  \n",
        "\n",
        "The one task that you have to do here is type out the file name between the two ```''```. Jupyter makes this task particularly easy as there is an auto-complete function.  The data is most likely in the same directory as this notebook. So if you Type the first couple of letters of the file name you can then hit the ```Tab```key and then select the file name from the pop-up window. If you have placed the data in a different directory to the notebook, you will need to type out the file path (though the auto-complete function will help with this).\n",
        "\n",
        "The file name is:  ```Siderophile_silicate_earth_chondrites_mean_IDSP.xlsx```"
      ],
      "metadata": {
        "id": "3iCezSeWysBB"
      },
      "id": "3iCezSeWysBB"
    },
    {
      "cell_type": "code",
      "execution_count": null,
      "id": "c4072ce7",
      "metadata": {
        "scrolled": true,
        "id": "c4072ce7"
      },
      "outputs": [],
      "source": [
        "composition = pd.read_excel(data_path+'Siderophile_silicate_earth_chondrites_mean_IDSP.xlsx')"
      ]
    },
    {
      "cell_type": "markdown",
      "source": [
        "To inspect an data object in Python one of the easiest ways is to simply type the name and see what it looks like.  We will often do this to see:\n",
        "\n",
        "a) how we have modified the orignal data\n",
        "\n",
        "b) what a sub-set of data looks like\n",
        "\n",
        "It is not always required in an application, but when exploring data, and building a new analysis approach it is good to see what effects different actions have. \n",
        "\n",
        "Let's examine the data."
      ],
      "metadata": {
        "id": "8ts7tVXmPsOh"
      },
      "id": "8ts7tVXmPsOh"
    },
    {
      "cell_type": "code",
      "source": [
        "composition"
      ],
      "metadata": {
        "colab": {
          "base_uri": "https://localhost:8080/",
          "height": 519
        },
        "id": "76LcBAWlPrCQ",
        "outputId": "cffa50bf-7c4e-4189-a220-9900ab5c60b7"
      },
      "id": "76LcBAWlPrCQ",
      "execution_count": null,
      "outputs": [
        {
          "output_type": "execute_result",
          "data": {
            "text/plain": [
              "    atomic number element       D value      D value temp  \\\n",
              "0            14.0      Si  4.800000e-03  met/sil (1600°C)   \n",
              "1            23.0       V  5.600000e-01  met/sil (1600°C)   \n",
              "2            24.0      Cr  3.500000e-01  met/sil (1600°C)   \n",
              "3            25.0      Mn  2.000000e-02  met/sil (1600°C)   \n",
              "4            73.0      Ta  9.700000e-04  met/sil (1600°C)   \n",
              "5            15.0       P  1.700000e+02  met/sil (1600°C)   \n",
              "6            26.0      Fe  1.300000e+01  met/sil (1600°C)   \n",
              "7            27.0      Co  1.400000e+02  met/sil (1600°C)   \n",
              "8            28.0      Ni  1.300000e+03  met/sil (1600°C)   \n",
              "9            31.0      Ga  3.400000e+01  met/sil (1600°C)   \n",
              "10           42.0      Mo  6.100000e+04  met/sil (1600°C)   \n",
              "11           74.0       W  2.400000e+01  met/sil (1600°C)   \n",
              "12           46.0      Pd  5.600000e+05  met/sil (1300°C)   \n",
              "13           77.0      Ir  8.000000e+10  met/sil (1300°C)   \n",
              "14           79.0      Au  3.100000e+05  met/sil (1300°C)   \n",
              "\n",
              "          class of element  Earth Crust Mean  Earth Crust 1σ  \\\n",
              "0               Liphophile         21.782000      259.199228   \n",
              "1               Liphophile         91.220000        0.396074   \n",
              "2               Liphophile       2857.600000        0.321989   \n",
              "3               Liphophile       1043.400000        3.544009   \n",
              "4               Liphophile         36.650000        0.241247   \n",
              "5   Moderately siderophile         77.125000        0.550000   \n",
              "6   Moderately siderophile          6.250000       39.189795   \n",
              "7   Moderately siderophile        104.200000        0.191964   \n",
              "8   Moderately siderophile          0.199180       16.622180   \n",
              "9   Moderately siderophile          3.675000        0.003000   \n",
              "10  Moderately siderophile          0.062000        0.007064   \n",
              "11  Moderately siderophile         20.366667        0.945270   \n",
              "12      Highly siderophile          4.450000        3.336998   \n",
              "13      Highly siderophile          3.070000       18.659946   \n",
              "14      Highly siderophile          0.768500        6.392769   \n",
              "\n",
              "   Measurement units  Solar System Mean (ppm)  Solar System  1σ  \n",
              "0                  %              106500.0000         1250.0000  \n",
              "1                ppm                  55.7000            1.3000  \n",
              "2                ppm                2590.0000           80.0000  \n",
              "3                ppm                1910.0000           40.0000  \n",
              "4                ppb                   0.0144            0.0001  \n",
              "5                ppm                 920.0000          100.0000  \n",
              "6                  %              182800.0000         1470.0000  \n",
              "7                ppm                 502.0000           17.0000  \n",
              "8                  %               10640.0000          210.0000  \n",
              "9                ppm                   9.5100            0.3100  \n",
              "10               ppm                   1.0200            0.1100  \n",
              "11               ppb                   0.0890            0.0070  \n",
              "12               ppb                   0.5880            0.0200  \n",
              "13               ppb                   0.4700            0.0050  \n",
              "14               ppb                   0.1460            0.0020  "
            ],
            "text/html": [
              "\n",
              "  <div id=\"df-05824f99-38c9-47fd-9251-84f85bee6597\">\n",
              "    <div class=\"colab-df-container\">\n",
              "      <div>\n",
              "<style scoped>\n",
              "    .dataframe tbody tr th:only-of-type {\n",
              "        vertical-align: middle;\n",
              "    }\n",
              "\n",
              "    .dataframe tbody tr th {\n",
              "        vertical-align: top;\n",
              "    }\n",
              "\n",
              "    .dataframe thead th {\n",
              "        text-align: right;\n",
              "    }\n",
              "</style>\n",
              "<table border=\"1\" class=\"dataframe\">\n",
              "  <thead>\n",
              "    <tr style=\"text-align: right;\">\n",
              "      <th></th>\n",
              "      <th>atomic number</th>\n",
              "      <th>element</th>\n",
              "      <th>D value</th>\n",
              "      <th>D value temp</th>\n",
              "      <th>class of element</th>\n",
              "      <th>Earth Crust Mean</th>\n",
              "      <th>Earth Crust 1σ</th>\n",
              "      <th>Measurement units</th>\n",
              "      <th>Solar System Mean (ppm)</th>\n",
              "      <th>Solar System  1σ</th>\n",
              "    </tr>\n",
              "  </thead>\n",
              "  <tbody>\n",
              "    <tr>\n",
              "      <th>0</th>\n",
              "      <td>14.0</td>\n",
              "      <td>Si</td>\n",
              "      <td>4.800000e-03</td>\n",
              "      <td>met/sil (1600°C)</td>\n",
              "      <td>Liphophile</td>\n",
              "      <td>21.782000</td>\n",
              "      <td>259.199228</td>\n",
              "      <td>%</td>\n",
              "      <td>106500.0000</td>\n",
              "      <td>1250.0000</td>\n",
              "    </tr>\n",
              "    <tr>\n",
              "      <th>1</th>\n",
              "      <td>23.0</td>\n",
              "      <td>V</td>\n",
              "      <td>5.600000e-01</td>\n",
              "      <td>met/sil (1600°C)</td>\n",
              "      <td>Liphophile</td>\n",
              "      <td>91.220000</td>\n",
              "      <td>0.396074</td>\n",
              "      <td>ppm</td>\n",
              "      <td>55.7000</td>\n",
              "      <td>1.3000</td>\n",
              "    </tr>\n",
              "    <tr>\n",
              "      <th>2</th>\n",
              "      <td>24.0</td>\n",
              "      <td>Cr</td>\n",
              "      <td>3.500000e-01</td>\n",
              "      <td>met/sil (1600°C)</td>\n",
              "      <td>Liphophile</td>\n",
              "      <td>2857.600000</td>\n",
              "      <td>0.321989</td>\n",
              "      <td>ppm</td>\n",
              "      <td>2590.0000</td>\n",
              "      <td>80.0000</td>\n",
              "    </tr>\n",
              "    <tr>\n",
              "      <th>3</th>\n",
              "      <td>25.0</td>\n",
              "      <td>Mn</td>\n",
              "      <td>2.000000e-02</td>\n",
              "      <td>met/sil (1600°C)</td>\n",
              "      <td>Liphophile</td>\n",
              "      <td>1043.400000</td>\n",
              "      <td>3.544009</td>\n",
              "      <td>ppm</td>\n",
              "      <td>1910.0000</td>\n",
              "      <td>40.0000</td>\n",
              "    </tr>\n",
              "    <tr>\n",
              "      <th>4</th>\n",
              "      <td>73.0</td>\n",
              "      <td>Ta</td>\n",
              "      <td>9.700000e-04</td>\n",
              "      <td>met/sil (1600°C)</td>\n",
              "      <td>Liphophile</td>\n",
              "      <td>36.650000</td>\n",
              "      <td>0.241247</td>\n",
              "      <td>ppb</td>\n",
              "      <td>0.0144</td>\n",
              "      <td>0.0001</td>\n",
              "    </tr>\n",
              "    <tr>\n",
              "      <th>5</th>\n",
              "      <td>15.0</td>\n",
              "      <td>P</td>\n",
              "      <td>1.700000e+02</td>\n",
              "      <td>met/sil (1600°C)</td>\n",
              "      <td>Moderately siderophile</td>\n",
              "      <td>77.125000</td>\n",
              "      <td>0.550000</td>\n",
              "      <td>ppm</td>\n",
              "      <td>920.0000</td>\n",
              "      <td>100.0000</td>\n",
              "    </tr>\n",
              "    <tr>\n",
              "      <th>6</th>\n",
              "      <td>26.0</td>\n",
              "      <td>Fe</td>\n",
              "      <td>1.300000e+01</td>\n",
              "      <td>met/sil (1600°C)</td>\n",
              "      <td>Moderately siderophile</td>\n",
              "      <td>6.250000</td>\n",
              "      <td>39.189795</td>\n",
              "      <td>%</td>\n",
              "      <td>182800.0000</td>\n",
              "      <td>1470.0000</td>\n",
              "    </tr>\n",
              "    <tr>\n",
              "      <th>7</th>\n",
              "      <td>27.0</td>\n",
              "      <td>Co</td>\n",
              "      <td>1.400000e+02</td>\n",
              "      <td>met/sil (1600°C)</td>\n",
              "      <td>Moderately siderophile</td>\n",
              "      <td>104.200000</td>\n",
              "      <td>0.191964</td>\n",
              "      <td>ppm</td>\n",
              "      <td>502.0000</td>\n",
              "      <td>17.0000</td>\n",
              "    </tr>\n",
              "    <tr>\n",
              "      <th>8</th>\n",
              "      <td>28.0</td>\n",
              "      <td>Ni</td>\n",
              "      <td>1.300000e+03</td>\n",
              "      <td>met/sil (1600°C)</td>\n",
              "      <td>Moderately siderophile</td>\n",
              "      <td>0.199180</td>\n",
              "      <td>16.622180</td>\n",
              "      <td>%</td>\n",
              "      <td>10640.0000</td>\n",
              "      <td>210.0000</td>\n",
              "    </tr>\n",
              "    <tr>\n",
              "      <th>9</th>\n",
              "      <td>31.0</td>\n",
              "      <td>Ga</td>\n",
              "      <td>3.400000e+01</td>\n",
              "      <td>met/sil (1600°C)</td>\n",
              "      <td>Moderately siderophile</td>\n",
              "      <td>3.675000</td>\n",
              "      <td>0.003000</td>\n",
              "      <td>ppm</td>\n",
              "      <td>9.5100</td>\n",
              "      <td>0.3100</td>\n",
              "    </tr>\n",
              "    <tr>\n",
              "      <th>10</th>\n",
              "      <td>42.0</td>\n",
              "      <td>Mo</td>\n",
              "      <td>6.100000e+04</td>\n",
              "      <td>met/sil (1600°C)</td>\n",
              "      <td>Moderately siderophile</td>\n",
              "      <td>0.062000</td>\n",
              "      <td>0.007064</td>\n",
              "      <td>ppm</td>\n",
              "      <td>1.0200</td>\n",
              "      <td>0.1100</td>\n",
              "    </tr>\n",
              "    <tr>\n",
              "      <th>11</th>\n",
              "      <td>74.0</td>\n",
              "      <td>W</td>\n",
              "      <td>2.400000e+01</td>\n",
              "      <td>met/sil (1600°C)</td>\n",
              "      <td>Moderately siderophile</td>\n",
              "      <td>20.366667</td>\n",
              "      <td>0.945270</td>\n",
              "      <td>ppb</td>\n",
              "      <td>0.0890</td>\n",
              "      <td>0.0070</td>\n",
              "    </tr>\n",
              "    <tr>\n",
              "      <th>12</th>\n",
              "      <td>46.0</td>\n",
              "      <td>Pd</td>\n",
              "      <td>5.600000e+05</td>\n",
              "      <td>met/sil (1300°C)</td>\n",
              "      <td>Highly siderophile</td>\n",
              "      <td>4.450000</td>\n",
              "      <td>3.336998</td>\n",
              "      <td>ppb</td>\n",
              "      <td>0.5880</td>\n",
              "      <td>0.0200</td>\n",
              "    </tr>\n",
              "    <tr>\n",
              "      <th>13</th>\n",
              "      <td>77.0</td>\n",
              "      <td>Ir</td>\n",
              "      <td>8.000000e+10</td>\n",
              "      <td>met/sil (1300°C)</td>\n",
              "      <td>Highly siderophile</td>\n",
              "      <td>3.070000</td>\n",
              "      <td>18.659946</td>\n",
              "      <td>ppb</td>\n",
              "      <td>0.4700</td>\n",
              "      <td>0.0050</td>\n",
              "    </tr>\n",
              "    <tr>\n",
              "      <th>14</th>\n",
              "      <td>79.0</td>\n",
              "      <td>Au</td>\n",
              "      <td>3.100000e+05</td>\n",
              "      <td>met/sil (1300°C)</td>\n",
              "      <td>Highly siderophile</td>\n",
              "      <td>0.768500</td>\n",
              "      <td>6.392769</td>\n",
              "      <td>ppb</td>\n",
              "      <td>0.1460</td>\n",
              "      <td>0.0020</td>\n",
              "    </tr>\n",
              "  </tbody>\n",
              "</table>\n",
              "</div>\n",
              "      <button class=\"colab-df-convert\" onclick=\"convertToInteractive('df-05824f99-38c9-47fd-9251-84f85bee6597')\"\n",
              "              title=\"Convert this dataframe to an interactive table.\"\n",
              "              style=\"display:none;\">\n",
              "        \n",
              "  <svg xmlns=\"http://www.w3.org/2000/svg\" height=\"24px\"viewBox=\"0 0 24 24\"\n",
              "       width=\"24px\">\n",
              "    <path d=\"M0 0h24v24H0V0z\" fill=\"none\"/>\n",
              "    <path d=\"M18.56 5.44l.94 2.06.94-2.06 2.06-.94-2.06-.94-.94-2.06-.94 2.06-2.06.94zm-11 1L8.5 8.5l.94-2.06 2.06-.94-2.06-.94L8.5 2.5l-.94 2.06-2.06.94zm10 10l.94 2.06.94-2.06 2.06-.94-2.06-.94-.94-2.06-.94 2.06-2.06.94z\"/><path d=\"M17.41 7.96l-1.37-1.37c-.4-.4-.92-.59-1.43-.59-.52 0-1.04.2-1.43.59L10.3 9.45l-7.72 7.72c-.78.78-.78 2.05 0 2.83L4 21.41c.39.39.9.59 1.41.59.51 0 1.02-.2 1.41-.59l7.78-7.78 2.81-2.81c.8-.78.8-2.07 0-2.86zM5.41 20L4 18.59l7.72-7.72 1.47 1.35L5.41 20z\"/>\n",
              "  </svg>\n",
              "      </button>\n",
              "      \n",
              "  <style>\n",
              "    .colab-df-container {\n",
              "      display:flex;\n",
              "      flex-wrap:wrap;\n",
              "      gap: 12px;\n",
              "    }\n",
              "\n",
              "    .colab-df-convert {\n",
              "      background-color: #E8F0FE;\n",
              "      border: none;\n",
              "      border-radius: 50%;\n",
              "      cursor: pointer;\n",
              "      display: none;\n",
              "      fill: #1967D2;\n",
              "      height: 32px;\n",
              "      padding: 0 0 0 0;\n",
              "      width: 32px;\n",
              "    }\n",
              "\n",
              "    .colab-df-convert:hover {\n",
              "      background-color: #E2EBFA;\n",
              "      box-shadow: 0px 1px 2px rgba(60, 64, 67, 0.3), 0px 1px 3px 1px rgba(60, 64, 67, 0.15);\n",
              "      fill: #174EA6;\n",
              "    }\n",
              "\n",
              "    [theme=dark] .colab-df-convert {\n",
              "      background-color: #3B4455;\n",
              "      fill: #D2E3FC;\n",
              "    }\n",
              "\n",
              "    [theme=dark] .colab-df-convert:hover {\n",
              "      background-color: #434B5C;\n",
              "      box-shadow: 0px 1px 3px 1px rgba(0, 0, 0, 0.15);\n",
              "      filter: drop-shadow(0px 1px 2px rgba(0, 0, 0, 0.3));\n",
              "      fill: #FFFFFF;\n",
              "    }\n",
              "  </style>\n",
              "\n",
              "      <script>\n",
              "        const buttonEl =\n",
              "          document.querySelector('#df-05824f99-38c9-47fd-9251-84f85bee6597 button.colab-df-convert');\n",
              "        buttonEl.style.display =\n",
              "          google.colab.kernel.accessAllowed ? 'block' : 'none';\n",
              "\n",
              "        async function convertToInteractive(key) {\n",
              "          const element = document.querySelector('#df-05824f99-38c9-47fd-9251-84f85bee6597');\n",
              "          const dataTable =\n",
              "            await google.colab.kernel.invokeFunction('convertToInteractive',\n",
              "                                                     [key], {});\n",
              "          if (!dataTable) return;\n",
              "\n",
              "          const docLinkHtml = 'Like what you see? Visit the ' +\n",
              "            '<a target=\"_blank\" href=https://colab.research.google.com/notebooks/data_table.ipynb>data table notebook</a>'\n",
              "            + ' to learn more about interactive tables.';\n",
              "          element.innerHTML = '';\n",
              "          dataTable['output_type'] = 'display_data';\n",
              "          await google.colab.output.renderOutput(dataTable, element);\n",
              "          const docLink = document.createElement('div');\n",
              "          docLink.innerHTML = docLinkHtml;\n",
              "          element.appendChild(docLink);\n",
              "        }\n",
              "      </script>\n",
              "    </div>\n",
              "  </div>\n",
              "  "
            ]
          },
          "metadata": {},
          "execution_count": 4
        }
      ]
    },
    {
      "cell_type": "markdown",
      "source": [
        "**Technical Comments** \n",
        "\n",
        "1) Immediately on loading the data into the data frame you should notice that this table of values looks very much like a spread sheet.\n",
        "\n",
        "2) here we can now take actions on rows, columns and even generate new datasets / data frames"
      ],
      "metadata": {
        "id": "uAb4J_9YLkI3"
      },
      "id": "uAb4J_9YLkI3"
    },
    {
      "cell_type": "markdown",
      "source": [
        "### 1.3 Some pandas commands\n",
        "\n",
        "It you want to examine just the first 10 rows, use ```.head(n=10)``` where the n=10 gives the number of rows to display."
      ],
      "metadata": {
        "id": "tgM-deIwKcGT"
      },
      "id": "tgM-deIwKcGT"
    },
    {
      "cell_type": "code",
      "source": [
        "composition.head(n=4)"
      ],
      "metadata": {
        "colab": {
          "base_uri": "https://localhost:8080/",
          "height": 174
        },
        "id": "Jd6u2yxoKqpG",
        "outputId": "569bcb3e-0aba-4209-af62-2125e0e5bf61"
      },
      "id": "Jd6u2yxoKqpG",
      "execution_count": null,
      "outputs": [
        {
          "output_type": "execute_result",
          "data": {
            "text/plain": [
              "   atomic number element  D value      D value temp class of element  \\\n",
              "0           14.0      Si   0.0048  met/sil (1600°C)       Liphophile   \n",
              "1           23.0       V   0.5600  met/sil (1600°C)       Liphophile   \n",
              "2           24.0      Cr   0.3500  met/sil (1600°C)       Liphophile   \n",
              "3           25.0      Mn   0.0200  met/sil (1600°C)       Liphophile   \n",
              "\n",
              "   Earth Crust Mean  Earth Crust 1σ Measurement units  \\\n",
              "0            21.782      259.199228                 %   \n",
              "1            91.220        0.396074               ppm   \n",
              "2          2857.600        0.321989               ppm   \n",
              "3          1043.400        3.544009               ppm   \n",
              "\n",
              "   Solar System Mean (ppm)  Solar System  1σ  \n",
              "0                 106500.0            1250.0  \n",
              "1                     55.7               1.3  \n",
              "2                   2590.0              80.0  \n",
              "3                   1910.0              40.0  "
            ],
            "text/html": [
              "\n",
              "  <div id=\"df-6bc46e43-0fb6-4f50-bcba-39439b216474\">\n",
              "    <div class=\"colab-df-container\">\n",
              "      <div>\n",
              "<style scoped>\n",
              "    .dataframe tbody tr th:only-of-type {\n",
              "        vertical-align: middle;\n",
              "    }\n",
              "\n",
              "    .dataframe tbody tr th {\n",
              "        vertical-align: top;\n",
              "    }\n",
              "\n",
              "    .dataframe thead th {\n",
              "        text-align: right;\n",
              "    }\n",
              "</style>\n",
              "<table border=\"1\" class=\"dataframe\">\n",
              "  <thead>\n",
              "    <tr style=\"text-align: right;\">\n",
              "      <th></th>\n",
              "      <th>atomic number</th>\n",
              "      <th>element</th>\n",
              "      <th>D value</th>\n",
              "      <th>D value temp</th>\n",
              "      <th>class of element</th>\n",
              "      <th>Earth Crust Mean</th>\n",
              "      <th>Earth Crust 1σ</th>\n",
              "      <th>Measurement units</th>\n",
              "      <th>Solar System Mean (ppm)</th>\n",
              "      <th>Solar System  1σ</th>\n",
              "    </tr>\n",
              "  </thead>\n",
              "  <tbody>\n",
              "    <tr>\n",
              "      <th>0</th>\n",
              "      <td>14.0</td>\n",
              "      <td>Si</td>\n",
              "      <td>0.0048</td>\n",
              "      <td>met/sil (1600°C)</td>\n",
              "      <td>Liphophile</td>\n",
              "      <td>21.782</td>\n",
              "      <td>259.199228</td>\n",
              "      <td>%</td>\n",
              "      <td>106500.0</td>\n",
              "      <td>1250.0</td>\n",
              "    </tr>\n",
              "    <tr>\n",
              "      <th>1</th>\n",
              "      <td>23.0</td>\n",
              "      <td>V</td>\n",
              "      <td>0.5600</td>\n",
              "      <td>met/sil (1600°C)</td>\n",
              "      <td>Liphophile</td>\n",
              "      <td>91.220</td>\n",
              "      <td>0.396074</td>\n",
              "      <td>ppm</td>\n",
              "      <td>55.7</td>\n",
              "      <td>1.3</td>\n",
              "    </tr>\n",
              "    <tr>\n",
              "      <th>2</th>\n",
              "      <td>24.0</td>\n",
              "      <td>Cr</td>\n",
              "      <td>0.3500</td>\n",
              "      <td>met/sil (1600°C)</td>\n",
              "      <td>Liphophile</td>\n",
              "      <td>2857.600</td>\n",
              "      <td>0.321989</td>\n",
              "      <td>ppm</td>\n",
              "      <td>2590.0</td>\n",
              "      <td>80.0</td>\n",
              "    </tr>\n",
              "    <tr>\n",
              "      <th>3</th>\n",
              "      <td>25.0</td>\n",
              "      <td>Mn</td>\n",
              "      <td>0.0200</td>\n",
              "      <td>met/sil (1600°C)</td>\n",
              "      <td>Liphophile</td>\n",
              "      <td>1043.400</td>\n",
              "      <td>3.544009</td>\n",
              "      <td>ppm</td>\n",
              "      <td>1910.0</td>\n",
              "      <td>40.0</td>\n",
              "    </tr>\n",
              "  </tbody>\n",
              "</table>\n",
              "</div>\n",
              "      <button class=\"colab-df-convert\" onclick=\"convertToInteractive('df-6bc46e43-0fb6-4f50-bcba-39439b216474')\"\n",
              "              title=\"Convert this dataframe to an interactive table.\"\n",
              "              style=\"display:none;\">\n",
              "        \n",
              "  <svg xmlns=\"http://www.w3.org/2000/svg\" height=\"24px\"viewBox=\"0 0 24 24\"\n",
              "       width=\"24px\">\n",
              "    <path d=\"M0 0h24v24H0V0z\" fill=\"none\"/>\n",
              "    <path d=\"M18.56 5.44l.94 2.06.94-2.06 2.06-.94-2.06-.94-.94-2.06-.94 2.06-2.06.94zm-11 1L8.5 8.5l.94-2.06 2.06-.94-2.06-.94L8.5 2.5l-.94 2.06-2.06.94zm10 10l.94 2.06.94-2.06 2.06-.94-2.06-.94-.94-2.06-.94 2.06-2.06.94z\"/><path d=\"M17.41 7.96l-1.37-1.37c-.4-.4-.92-.59-1.43-.59-.52 0-1.04.2-1.43.59L10.3 9.45l-7.72 7.72c-.78.78-.78 2.05 0 2.83L4 21.41c.39.39.9.59 1.41.59.51 0 1.02-.2 1.41-.59l7.78-7.78 2.81-2.81c.8-.78.8-2.07 0-2.86zM5.41 20L4 18.59l7.72-7.72 1.47 1.35L5.41 20z\"/>\n",
              "  </svg>\n",
              "      </button>\n",
              "      \n",
              "  <style>\n",
              "    .colab-df-container {\n",
              "      display:flex;\n",
              "      flex-wrap:wrap;\n",
              "      gap: 12px;\n",
              "    }\n",
              "\n",
              "    .colab-df-convert {\n",
              "      background-color: #E8F0FE;\n",
              "      border: none;\n",
              "      border-radius: 50%;\n",
              "      cursor: pointer;\n",
              "      display: none;\n",
              "      fill: #1967D2;\n",
              "      height: 32px;\n",
              "      padding: 0 0 0 0;\n",
              "      width: 32px;\n",
              "    }\n",
              "\n",
              "    .colab-df-convert:hover {\n",
              "      background-color: #E2EBFA;\n",
              "      box-shadow: 0px 1px 2px rgba(60, 64, 67, 0.3), 0px 1px 3px 1px rgba(60, 64, 67, 0.15);\n",
              "      fill: #174EA6;\n",
              "    }\n",
              "\n",
              "    [theme=dark] .colab-df-convert {\n",
              "      background-color: #3B4455;\n",
              "      fill: #D2E3FC;\n",
              "    }\n",
              "\n",
              "    [theme=dark] .colab-df-convert:hover {\n",
              "      background-color: #434B5C;\n",
              "      box-shadow: 0px 1px 3px 1px rgba(0, 0, 0, 0.15);\n",
              "      filter: drop-shadow(0px 1px 2px rgba(0, 0, 0, 0.3));\n",
              "      fill: #FFFFFF;\n",
              "    }\n",
              "  </style>\n",
              "\n",
              "      <script>\n",
              "        const buttonEl =\n",
              "          document.querySelector('#df-6bc46e43-0fb6-4f50-bcba-39439b216474 button.colab-df-convert');\n",
              "        buttonEl.style.display =\n",
              "          google.colab.kernel.accessAllowed ? 'block' : 'none';\n",
              "\n",
              "        async function convertToInteractive(key) {\n",
              "          const element = document.querySelector('#df-6bc46e43-0fb6-4f50-bcba-39439b216474');\n",
              "          const dataTable =\n",
              "            await google.colab.kernel.invokeFunction('convertToInteractive',\n",
              "                                                     [key], {});\n",
              "          if (!dataTable) return;\n",
              "\n",
              "          const docLinkHtml = 'Like what you see? Visit the ' +\n",
              "            '<a target=\"_blank\" href=https://colab.research.google.com/notebooks/data_table.ipynb>data table notebook</a>'\n",
              "            + ' to learn more about interactive tables.';\n",
              "          element.innerHTML = '';\n",
              "          dataTable['output_type'] = 'display_data';\n",
              "          await google.colab.output.renderOutput(dataTable, element);\n",
              "          const docLink = document.createElement('div');\n",
              "          docLink.innerHTML = docLinkHtml;\n",
              "          element.appendChild(docLink);\n",
              "        }\n",
              "      </script>\n",
              "    </div>\n",
              "  </div>\n",
              "  "
            ]
          },
          "metadata": {},
          "execution_count": 5
        }
      ]
    },
    {
      "cell_type": "markdown",
      "source": [
        "If you would like just get the names of all the columns use ```.columns```"
      ],
      "metadata": {
        "id": "MCwQJa03KcQd"
      },
      "id": "MCwQJa03KcQd"
    },
    {
      "cell_type": "code",
      "source": [
        "composition.columns"
      ],
      "metadata": {
        "colab": {
          "base_uri": "https://localhost:8080/"
        },
        "id": "njA4iFqXOuEY",
        "outputId": "7895674c-8b7a-4925-f120-dcad3d3513f4"
      },
      "id": "njA4iFqXOuEY",
      "execution_count": null,
      "outputs": [
        {
          "output_type": "execute_result",
          "data": {
            "text/plain": [
              "Index(['atomic number', 'element', 'D value', 'D value temp',\n",
              "       'class of element', 'Earth Crust Mean', 'Earth Crust 1σ',\n",
              "       'Measurement units', 'Solar System Mean (ppm)', 'Solar System  1σ'],\n",
              "      dtype='object')"
            ]
          },
          "metadata": {},
          "execution_count": 6
        }
      ]
    },
    {
      "cell_type": "code",
      "source": [
        ""
      ],
      "metadata": {
        "id": "ccePyF_NrZ7Y"
      },
      "id": "ccePyF_NrZ7Y",
      "execution_count": null,
      "outputs": []
    },
    {
      "cell_type": "markdown",
      "id": "eccaae8e",
      "metadata": {
        "id": "eccaae8e"
      },
      "source": [
        "We will spend more time exploring differnt functions and tools for manipulating dataframes through out the course. This was just a taster.\n"
      ]
    },
    {
      "cell_type": "markdown",
      "id": "ad696d3b",
      "metadata": {
        "id": "ad696d3b"
      },
      "source": [
        "## 2.0 Exploring and modifying dataframes.\n",
        "\n",
        "Examining the **composition** dataframe you should notice the 'Silicate units' column.  This shows that the abundance of each element is recorded in units ranging from percent per kilogram (%) to parts per billion (ppb). Further, if you exmaine the abundance at the solar system level('Solar System Mean') you will observe that all the data is given in ppm.  So what we want to do is\n",
        "\n",
        "1) create a new column in which we will place all the earth elemental abundances in ppm units.\n",
        "\n",
        "2) filter through \n",
        "\n"
      ]
    },
    {
      "cell_type": "markdown",
      "source": [
        "### 2.1 Filtering and changing data with the ```loc ``` function\n",
        "We will now use the ```.loc``` function to locate the rows where there are elemental abundces for the silicate earth given in ppb.\n",
        "\n",
        "**note** in python for a test of equality the ```==``` is used as a single  ```=``` is used to set variable or specific values.  Other logical tests are \n",
        "\n",
        "!= not equal\n",
        "\n",
        "\\> greater than\n",
        "\n",
        "\\< less than\n",
        "\n",
        "<= less than or equal\n",
        "\n",
        "\\> greater than or equal\n",
        "\n",
        "**Example** In the cell below is an example of using the ```loc``` function to find 'ppb' rows."
      ],
      "metadata": {
        "id": "qAeDFvshyNHc"
      },
      "id": "qAeDFvshyNHc"
    },
    {
      "cell_type": "markdown",
      "source": [
        ""
      ],
      "metadata": {
        "id": "k6Wco0Zbrvmf"
      },
      "id": "k6Wco0Zbrvmf"
    },
    {
      "cell_type": "code",
      "source": [
        "composition['Measurement units']=='ppb'"
      ],
      "metadata": {
        "colab": {
          "base_uri": "https://localhost:8080/"
        },
        "id": "Lk7vjrp4rx0g",
        "outputId": "dadb22b4-a889-421e-fb5f-c00d6dd64837"
      },
      "id": "Lk7vjrp4rx0g",
      "execution_count": null,
      "outputs": [
        {
          "output_type": "execute_result",
          "data": {
            "text/plain": [
              "0     False\n",
              "1     False\n",
              "2     False\n",
              "3     False\n",
              "4      True\n",
              "5     False\n",
              "6     False\n",
              "7     False\n",
              "8     False\n",
              "9     False\n",
              "10    False\n",
              "11     True\n",
              "12     True\n",
              "13     True\n",
              "14     True\n",
              "Name: Measurement units, dtype: bool"
            ]
          },
          "metadata": {},
          "execution_count": 8
        }
      ]
    },
    {
      "cell_type": "code",
      "execution_count": null,
      "id": "98b24d94",
      "metadata": {
        "id": "98b24d94",
        "outputId": "b98b84ce-30a5-44ee-f1d1-1b5695c366c0",
        "colab": {
          "base_uri": "https://localhost:8080/",
          "height": 206
        }
      },
      "outputs": [
        {
          "output_type": "execute_result",
          "data": {
            "text/plain": [
              "    atomic number element       D value      D value temp  \\\n",
              "4            73.0      Ta  9.700000e-04  met/sil (1600°C)   \n",
              "11           74.0       W  2.400000e+01  met/sil (1600°C)   \n",
              "12           46.0      Pd  5.600000e+05  met/sil (1300°C)   \n",
              "13           77.0      Ir  8.000000e+10  met/sil (1300°C)   \n",
              "14           79.0      Au  3.100000e+05  met/sil (1300°C)   \n",
              "\n",
              "          class of element  Earth Crust Mean  Earth Crust 1σ  \\\n",
              "4               Liphophile         36.650000        0.241247   \n",
              "11  Moderately siderophile         20.366667        0.945270   \n",
              "12      Highly siderophile          4.450000        3.336998   \n",
              "13      Highly siderophile          3.070000       18.659946   \n",
              "14      Highly siderophile          0.768500        6.392769   \n",
              "\n",
              "   Measurement units  Solar System Mean (ppm)  Solar System  1σ  \n",
              "4                ppb                   0.0144            0.0001  \n",
              "11               ppb                   0.0890            0.0070  \n",
              "12               ppb                   0.5880            0.0200  \n",
              "13               ppb                   0.4700            0.0050  \n",
              "14               ppb                   0.1460            0.0020  "
            ],
            "text/html": [
              "\n",
              "  <div id=\"df-c0f81dd9-5d79-49f4-bba9-22ceed45f404\">\n",
              "    <div class=\"colab-df-container\">\n",
              "      <div>\n",
              "<style scoped>\n",
              "    .dataframe tbody tr th:only-of-type {\n",
              "        vertical-align: middle;\n",
              "    }\n",
              "\n",
              "    .dataframe tbody tr th {\n",
              "        vertical-align: top;\n",
              "    }\n",
              "\n",
              "    .dataframe thead th {\n",
              "        text-align: right;\n",
              "    }\n",
              "</style>\n",
              "<table border=\"1\" class=\"dataframe\">\n",
              "  <thead>\n",
              "    <tr style=\"text-align: right;\">\n",
              "      <th></th>\n",
              "      <th>atomic number</th>\n",
              "      <th>element</th>\n",
              "      <th>D value</th>\n",
              "      <th>D value temp</th>\n",
              "      <th>class of element</th>\n",
              "      <th>Earth Crust Mean</th>\n",
              "      <th>Earth Crust 1σ</th>\n",
              "      <th>Measurement units</th>\n",
              "      <th>Solar System Mean (ppm)</th>\n",
              "      <th>Solar System  1σ</th>\n",
              "    </tr>\n",
              "  </thead>\n",
              "  <tbody>\n",
              "    <tr>\n",
              "      <th>4</th>\n",
              "      <td>73.0</td>\n",
              "      <td>Ta</td>\n",
              "      <td>9.700000e-04</td>\n",
              "      <td>met/sil (1600°C)</td>\n",
              "      <td>Liphophile</td>\n",
              "      <td>36.650000</td>\n",
              "      <td>0.241247</td>\n",
              "      <td>ppb</td>\n",
              "      <td>0.0144</td>\n",
              "      <td>0.0001</td>\n",
              "    </tr>\n",
              "    <tr>\n",
              "      <th>11</th>\n",
              "      <td>74.0</td>\n",
              "      <td>W</td>\n",
              "      <td>2.400000e+01</td>\n",
              "      <td>met/sil (1600°C)</td>\n",
              "      <td>Moderately siderophile</td>\n",
              "      <td>20.366667</td>\n",
              "      <td>0.945270</td>\n",
              "      <td>ppb</td>\n",
              "      <td>0.0890</td>\n",
              "      <td>0.0070</td>\n",
              "    </tr>\n",
              "    <tr>\n",
              "      <th>12</th>\n",
              "      <td>46.0</td>\n",
              "      <td>Pd</td>\n",
              "      <td>5.600000e+05</td>\n",
              "      <td>met/sil (1300°C)</td>\n",
              "      <td>Highly siderophile</td>\n",
              "      <td>4.450000</td>\n",
              "      <td>3.336998</td>\n",
              "      <td>ppb</td>\n",
              "      <td>0.5880</td>\n",
              "      <td>0.0200</td>\n",
              "    </tr>\n",
              "    <tr>\n",
              "      <th>13</th>\n",
              "      <td>77.0</td>\n",
              "      <td>Ir</td>\n",
              "      <td>8.000000e+10</td>\n",
              "      <td>met/sil (1300°C)</td>\n",
              "      <td>Highly siderophile</td>\n",
              "      <td>3.070000</td>\n",
              "      <td>18.659946</td>\n",
              "      <td>ppb</td>\n",
              "      <td>0.4700</td>\n",
              "      <td>0.0050</td>\n",
              "    </tr>\n",
              "    <tr>\n",
              "      <th>14</th>\n",
              "      <td>79.0</td>\n",
              "      <td>Au</td>\n",
              "      <td>3.100000e+05</td>\n",
              "      <td>met/sil (1300°C)</td>\n",
              "      <td>Highly siderophile</td>\n",
              "      <td>0.768500</td>\n",
              "      <td>6.392769</td>\n",
              "      <td>ppb</td>\n",
              "      <td>0.1460</td>\n",
              "      <td>0.0020</td>\n",
              "    </tr>\n",
              "  </tbody>\n",
              "</table>\n",
              "</div>\n",
              "      <button class=\"colab-df-convert\" onclick=\"convertToInteractive('df-c0f81dd9-5d79-49f4-bba9-22ceed45f404')\"\n",
              "              title=\"Convert this dataframe to an interactive table.\"\n",
              "              style=\"display:none;\">\n",
              "        \n",
              "  <svg xmlns=\"http://www.w3.org/2000/svg\" height=\"24px\"viewBox=\"0 0 24 24\"\n",
              "       width=\"24px\">\n",
              "    <path d=\"M0 0h24v24H0V0z\" fill=\"none\"/>\n",
              "    <path d=\"M18.56 5.44l.94 2.06.94-2.06 2.06-.94-2.06-.94-.94-2.06-.94 2.06-2.06.94zm-11 1L8.5 8.5l.94-2.06 2.06-.94-2.06-.94L8.5 2.5l-.94 2.06-2.06.94zm10 10l.94 2.06.94-2.06 2.06-.94-2.06-.94-.94-2.06-.94 2.06-2.06.94z\"/><path d=\"M17.41 7.96l-1.37-1.37c-.4-.4-.92-.59-1.43-.59-.52 0-1.04.2-1.43.59L10.3 9.45l-7.72 7.72c-.78.78-.78 2.05 0 2.83L4 21.41c.39.39.9.59 1.41.59.51 0 1.02-.2 1.41-.59l7.78-7.78 2.81-2.81c.8-.78.8-2.07 0-2.86zM5.41 20L4 18.59l7.72-7.72 1.47 1.35L5.41 20z\"/>\n",
              "  </svg>\n",
              "      </button>\n",
              "      \n",
              "  <style>\n",
              "    .colab-df-container {\n",
              "      display:flex;\n",
              "      flex-wrap:wrap;\n",
              "      gap: 12px;\n",
              "    }\n",
              "\n",
              "    .colab-df-convert {\n",
              "      background-color: #E8F0FE;\n",
              "      border: none;\n",
              "      border-radius: 50%;\n",
              "      cursor: pointer;\n",
              "      display: none;\n",
              "      fill: #1967D2;\n",
              "      height: 32px;\n",
              "      padding: 0 0 0 0;\n",
              "      width: 32px;\n",
              "    }\n",
              "\n",
              "    .colab-df-convert:hover {\n",
              "      background-color: #E2EBFA;\n",
              "      box-shadow: 0px 1px 2px rgba(60, 64, 67, 0.3), 0px 1px 3px 1px rgba(60, 64, 67, 0.15);\n",
              "      fill: #174EA6;\n",
              "    }\n",
              "\n",
              "    [theme=dark] .colab-df-convert {\n",
              "      background-color: #3B4455;\n",
              "      fill: #D2E3FC;\n",
              "    }\n",
              "\n",
              "    [theme=dark] .colab-df-convert:hover {\n",
              "      background-color: #434B5C;\n",
              "      box-shadow: 0px 1px 3px 1px rgba(0, 0, 0, 0.15);\n",
              "      filter: drop-shadow(0px 1px 2px rgba(0, 0, 0, 0.3));\n",
              "      fill: #FFFFFF;\n",
              "    }\n",
              "  </style>\n",
              "\n",
              "      <script>\n",
              "        const buttonEl =\n",
              "          document.querySelector('#df-c0f81dd9-5d79-49f4-bba9-22ceed45f404 button.colab-df-convert');\n",
              "        buttonEl.style.display =\n",
              "          google.colab.kernel.accessAllowed ? 'block' : 'none';\n",
              "\n",
              "        async function convertToInteractive(key) {\n",
              "          const element = document.querySelector('#df-c0f81dd9-5d79-49f4-bba9-22ceed45f404');\n",
              "          const dataTable =\n",
              "            await google.colab.kernel.invokeFunction('convertToInteractive',\n",
              "                                                     [key], {});\n",
              "          if (!dataTable) return;\n",
              "\n",
              "          const docLinkHtml = 'Like what you see? Visit the ' +\n",
              "            '<a target=\"_blank\" href=https://colab.research.google.com/notebooks/data_table.ipynb>data table notebook</a>'\n",
              "            + ' to learn more about interactive tables.';\n",
              "          element.innerHTML = '';\n",
              "          dataTable['output_type'] = 'display_data';\n",
              "          await google.colab.output.renderOutput(dataTable, element);\n",
              "          const docLink = document.createElement('div');\n",
              "          docLink.innerHTML = docLinkHtml;\n",
              "          element.appendChild(docLink);\n",
              "        }\n",
              "      </script>\n",
              "    </div>\n",
              "  </div>\n",
              "  "
            ]
          },
          "metadata": {},
          "execution_count": 9
        }
      ],
      "source": [
        "composition.loc[composition['Measurement units'] == 'ppb']\n"
      ]
    },
    {
      "cell_type": "markdown",
      "source": [
        "In the above example ```.loc```  was used to filter all the datafame and return only the rows where elements were measured in **ppb**.  Instead if you want only the **series** (the column of values) of elements which were measured at ppb concentrations you can instead **slice** the dataframe useing this syntax.\n",
        "\n",
        "**Example**"
      ],
      "metadata": {
        "id": "nBvJRHL2y31E"
      },
      "id": "nBvJRHL2y31E"
    },
    {
      "cell_type": "code",
      "source": [
        "composition.loc[composition['Measurement units'] == 'ppb', 'element']"
      ],
      "metadata": {
        "colab": {
          "base_uri": "https://localhost:8080/"
        },
        "id": "JVQ1nhA_y4TU",
        "outputId": "9c37f21e-c72a-4804-be3c-89b358ae5a37"
      },
      "id": "JVQ1nhA_y4TU",
      "execution_count": null,
      "outputs": [
        {
          "output_type": "execute_result",
          "data": {
            "text/plain": [
              "4     Ta\n",
              "11     W\n",
              "12    Pd\n",
              "13    Ir\n",
              "14    Au\n",
              "Name: element, dtype: object"
            ]
          },
          "metadata": {},
          "execution_count": 10
        }
      ]
    },
    {
      "cell_type": "markdown",
      "id": "5bf3541d",
      "metadata": {
        "id": "5bf3541d"
      },
      "source": [
        "#### 2.1.1 Action 1 using ``` loc``` to filter a dataframe\n",
        "\n",
        "Use ```loc``` to find elements given in % abundance."
      ]
    },
    {
      "cell_type": "code",
      "execution_count": null,
      "id": "cac62e56",
      "metadata": {
        "id": "cac62e56"
      },
      "outputs": [],
      "source": [
        ""
      ]
    },
    {
      "cell_type": "code",
      "source": [
        ""
      ],
      "metadata": {
        "id": "sOrlUOr7sWEk"
      },
      "id": "sOrlUOr7sWEk",
      "execution_count": null,
      "outputs": []
    },
    {
      "cell_type": "markdown",
      "id": "3ff34824",
      "metadata": {
        "id": "3ff34824"
      },
      "source": [
        "#### 2.1.2 Example convert selected values\n",
        "We need to rescale all the silicate earth values so that they are in the same units for comparison. We will do this by creating a new column and putting the converted values into the correct row locations.\n",
        "\n",
        "Use this ```loc``` command to locate cells where values given in 'ppb' then write the converted to 'ppm' values to a new column, which ```pandas``` will automatically create.\n",
        "\n",
        "The conversion factor for ppb to ppm is ppb/1000.  \n",
        "\n",
        "**Example** code:"
      ]
    },
    {
      "cell_type": "code",
      "execution_count": null,
      "id": "716435b0",
      "metadata": {
        "id": "716435b0"
      },
      "outputs": [],
      "source": [
        "composition.loc[composition['Measurement units'] == 'ppb', 'Earth Crust Mean ppm'] = composition['Earth Crust Mean']/1000 \n"
      ]
    },
    {
      "cell_type": "markdown",
      "id": "1d658590",
      "metadata": {
        "id": "1d658590"
      },
      "source": [
        "#### 2.1.3 Action Examine the  changes to the dataframe\n",
        "\n",
        "If you re-examine the data frame (by typing out the variable name into the blank cell below and running it) you will see that column 'Silicate Mean ppm' has been created but several rows are empty. This is because the example cell above only rescaled the rows where the concentration was given in ppb.  We need to populate the rest of these rows using the same **syntax**.\n",
        "\n"
      ]
    },
    {
      "cell_type": "code",
      "execution_count": null,
      "id": "8a6f6305",
      "metadata": {
        "id": "8a6f6305"
      },
      "outputs": [],
      "source": [
        ""
      ]
    },
    {
      "cell_type": "markdown",
      "id": "dce28fc3",
      "metadata": {
        "id": "dce28fc3"
      },
      "source": [
        "By using the same **syntax** from the cell above you can edit the line of code to:\n",
        "\n",
        "a) re-scale the concentrations given in **%**  in to the new 'Silicate Mean ppm' and \n",
        "\n",
        "b) then directly copy the **ppm** values into the 'Silicate Mean ppm' column as well.\n",
        "\n"
      ]
    },
    {
      "cell_type": "markdown",
      "source": [
        "#### 2.1.4 Action Convert the rest of the elements\n",
        "\n",
        "1) convert all '%' values to ppm using the ```loc``` function and the conversion of percent to pmm using the factor of  $ppm=\\%*10000$.\n",
        "\n",
        "2) directly copy all ppm values over to fill in the rest of the new column using the ```loc``` function."
      ],
      "metadata": {
        "id": "Z5LYIqLGO0Ve"
      },
      "id": "Z5LYIqLGO0Ve"
    },
    {
      "cell_type": "code",
      "execution_count": null,
      "id": "cfadfa1d",
      "metadata": {
        "id": "cfadfa1d"
      },
      "outputs": [],
      "source": [
        "\n",
        "\n"
      ]
    },
    {
      "cell_type": "code",
      "execution_count": null,
      "id": "14000afe",
      "metadata": {
        "id": "14000afe"
      },
      "outputs": [],
      "source": [
        "\n"
      ]
    },
    {
      "cell_type": "code",
      "execution_count": null,
      "id": "8a6e3396",
      "metadata": {
        "id": "8a6e3396"
      },
      "outputs": [],
      "source": [
        ""
      ]
    },
    {
      "cell_type": "markdown",
      "id": "b6174fab",
      "metadata": {
        "id": "b6174fab"
      },
      "source": [
        "#### 2.1.5 Action Examine the changes to the dataframe\n",
        "\n",
        "Examine the resulting changes to the data frame, by retyping the data frame's name."
      ]
    },
    {
      "cell_type": "code",
      "execution_count": null,
      "id": "07ddfa6f",
      "metadata": {
        "scrolled": false,
        "id": "07ddfa6f",
        "colab": {
          "base_uri": "https://localhost:8080/",
          "height": 519
        },
        "outputId": "c22478ee-9da5-4e30-976c-57350e4ebd2d"
      },
      "outputs": [
        {
          "output_type": "execute_result",
          "data": {
            "text/plain": [
              "    atomic number element       D value      D value temp  \\\n",
              "0            14.0      Si  4.800000e-03  met/sil (1600°C)   \n",
              "1            23.0       V  5.600000e-01  met/sil (1600°C)   \n",
              "2            24.0      Cr  3.500000e-01  met/sil (1600°C)   \n",
              "3            25.0      Mn  2.000000e-02  met/sil (1600°C)   \n",
              "4            73.0      Ta  9.700000e-04  met/sil (1600°C)   \n",
              "5            15.0       P  1.700000e+02  met/sil (1600°C)   \n",
              "6            26.0      Fe  1.300000e+01  met/sil (1600°C)   \n",
              "7            27.0      Co  1.400000e+02  met/sil (1600°C)   \n",
              "8            28.0      Ni  1.300000e+03  met/sil (1600°C)   \n",
              "9            31.0      Ga  3.400000e+01  met/sil (1600°C)   \n",
              "10           42.0      Mo  6.100000e+04  met/sil (1600°C)   \n",
              "11           74.0       W  2.400000e+01  met/sil (1600°C)   \n",
              "12           46.0      Pd  5.600000e+05  met/sil (1300°C)   \n",
              "13           77.0      Ir  8.000000e+10  met/sil (1300°C)   \n",
              "14           79.0      Au  3.100000e+05  met/sil (1300°C)   \n",
              "\n",
              "          class of element  Earth Crust Mean  Earth Crust 1σ  \\\n",
              "0               Liphophile         21.782000      259.199228   \n",
              "1               Liphophile         91.220000        0.396074   \n",
              "2               Liphophile       2857.600000        0.321989   \n",
              "3               Liphophile       1043.400000        3.544009   \n",
              "4               Liphophile         36.650000        0.241247   \n",
              "5   Moderately siderophile         77.125000        0.550000   \n",
              "6   Moderately siderophile          6.250000       39.189795   \n",
              "7   Moderately siderophile        104.200000        0.191964   \n",
              "8   Moderately siderophile          0.199180       16.622180   \n",
              "9   Moderately siderophile          3.675000        0.003000   \n",
              "10  Moderately siderophile          0.062000        0.007064   \n",
              "11  Moderately siderophile         20.366667        0.945270   \n",
              "12      Highly siderophile          4.450000        3.336998   \n",
              "13      Highly siderophile          3.070000       18.659946   \n",
              "14      Highly siderophile          0.768500        6.392769   \n",
              "\n",
              "   Measurement units  Solar System Mean (ppm)  Solar System  1σ  \\\n",
              "0                  %              106500.0000         1250.0000   \n",
              "1                ppm                  55.7000            1.3000   \n",
              "2                ppm                2590.0000           80.0000   \n",
              "3                ppm                1910.0000           40.0000   \n",
              "4                ppb                   0.0144            0.0001   \n",
              "5                ppm                 920.0000          100.0000   \n",
              "6                  %              182800.0000         1470.0000   \n",
              "7                ppm                 502.0000           17.0000   \n",
              "8                  %               10640.0000          210.0000   \n",
              "9                ppm                   9.5100            0.3100   \n",
              "10               ppm                   1.0200            0.1100   \n",
              "11               ppb                   0.0890            0.0070   \n",
              "12               ppb                   0.5880            0.0200   \n",
              "13               ppb                   0.4700            0.0050   \n",
              "14               ppb                   0.1460            0.0020   \n",
              "\n",
              "    Earth Crust Mean ppm  \n",
              "0          217820.000000  \n",
              "1              91.220000  \n",
              "2            2857.600000  \n",
              "3            1043.400000  \n",
              "4               0.036650  \n",
              "5              77.125000  \n",
              "6           62500.000000  \n",
              "7             104.200000  \n",
              "8            1991.800000  \n",
              "9               3.675000  \n",
              "10              0.062000  \n",
              "11              0.020367  \n",
              "12              0.004450  \n",
              "13              0.003070  \n",
              "14              0.000768  "
            ],
            "text/html": [
              "\n",
              "  <div id=\"df-1ad18e91-2269-449e-bb6e-9d6f60a2798b\">\n",
              "    <div class=\"colab-df-container\">\n",
              "      <div>\n",
              "<style scoped>\n",
              "    .dataframe tbody tr th:only-of-type {\n",
              "        vertical-align: middle;\n",
              "    }\n",
              "\n",
              "    .dataframe tbody tr th {\n",
              "        vertical-align: top;\n",
              "    }\n",
              "\n",
              "    .dataframe thead th {\n",
              "        text-align: right;\n",
              "    }\n",
              "</style>\n",
              "<table border=\"1\" class=\"dataframe\">\n",
              "  <thead>\n",
              "    <tr style=\"text-align: right;\">\n",
              "      <th></th>\n",
              "      <th>atomic number</th>\n",
              "      <th>element</th>\n",
              "      <th>D value</th>\n",
              "      <th>D value temp</th>\n",
              "      <th>class of element</th>\n",
              "      <th>Earth Crust Mean</th>\n",
              "      <th>Earth Crust 1σ</th>\n",
              "      <th>Measurement units</th>\n",
              "      <th>Solar System Mean (ppm)</th>\n",
              "      <th>Solar System  1σ</th>\n",
              "      <th>Earth Crust Mean ppm</th>\n",
              "    </tr>\n",
              "  </thead>\n",
              "  <tbody>\n",
              "    <tr>\n",
              "      <th>0</th>\n",
              "      <td>14.0</td>\n",
              "      <td>Si</td>\n",
              "      <td>4.800000e-03</td>\n",
              "      <td>met/sil (1600°C)</td>\n",
              "      <td>Liphophile</td>\n",
              "      <td>21.782000</td>\n",
              "      <td>259.199228</td>\n",
              "      <td>%</td>\n",
              "      <td>106500.0000</td>\n",
              "      <td>1250.0000</td>\n",
              "      <td>217820.000000</td>\n",
              "    </tr>\n",
              "    <tr>\n",
              "      <th>1</th>\n",
              "      <td>23.0</td>\n",
              "      <td>V</td>\n",
              "      <td>5.600000e-01</td>\n",
              "      <td>met/sil (1600°C)</td>\n",
              "      <td>Liphophile</td>\n",
              "      <td>91.220000</td>\n",
              "      <td>0.396074</td>\n",
              "      <td>ppm</td>\n",
              "      <td>55.7000</td>\n",
              "      <td>1.3000</td>\n",
              "      <td>91.220000</td>\n",
              "    </tr>\n",
              "    <tr>\n",
              "      <th>2</th>\n",
              "      <td>24.0</td>\n",
              "      <td>Cr</td>\n",
              "      <td>3.500000e-01</td>\n",
              "      <td>met/sil (1600°C)</td>\n",
              "      <td>Liphophile</td>\n",
              "      <td>2857.600000</td>\n",
              "      <td>0.321989</td>\n",
              "      <td>ppm</td>\n",
              "      <td>2590.0000</td>\n",
              "      <td>80.0000</td>\n",
              "      <td>2857.600000</td>\n",
              "    </tr>\n",
              "    <tr>\n",
              "      <th>3</th>\n",
              "      <td>25.0</td>\n",
              "      <td>Mn</td>\n",
              "      <td>2.000000e-02</td>\n",
              "      <td>met/sil (1600°C)</td>\n",
              "      <td>Liphophile</td>\n",
              "      <td>1043.400000</td>\n",
              "      <td>3.544009</td>\n",
              "      <td>ppm</td>\n",
              "      <td>1910.0000</td>\n",
              "      <td>40.0000</td>\n",
              "      <td>1043.400000</td>\n",
              "    </tr>\n",
              "    <tr>\n",
              "      <th>4</th>\n",
              "      <td>73.0</td>\n",
              "      <td>Ta</td>\n",
              "      <td>9.700000e-04</td>\n",
              "      <td>met/sil (1600°C)</td>\n",
              "      <td>Liphophile</td>\n",
              "      <td>36.650000</td>\n",
              "      <td>0.241247</td>\n",
              "      <td>ppb</td>\n",
              "      <td>0.0144</td>\n",
              "      <td>0.0001</td>\n",
              "      <td>0.036650</td>\n",
              "    </tr>\n",
              "    <tr>\n",
              "      <th>5</th>\n",
              "      <td>15.0</td>\n",
              "      <td>P</td>\n",
              "      <td>1.700000e+02</td>\n",
              "      <td>met/sil (1600°C)</td>\n",
              "      <td>Moderately siderophile</td>\n",
              "      <td>77.125000</td>\n",
              "      <td>0.550000</td>\n",
              "      <td>ppm</td>\n",
              "      <td>920.0000</td>\n",
              "      <td>100.0000</td>\n",
              "      <td>77.125000</td>\n",
              "    </tr>\n",
              "    <tr>\n",
              "      <th>6</th>\n",
              "      <td>26.0</td>\n",
              "      <td>Fe</td>\n",
              "      <td>1.300000e+01</td>\n",
              "      <td>met/sil (1600°C)</td>\n",
              "      <td>Moderately siderophile</td>\n",
              "      <td>6.250000</td>\n",
              "      <td>39.189795</td>\n",
              "      <td>%</td>\n",
              "      <td>182800.0000</td>\n",
              "      <td>1470.0000</td>\n",
              "      <td>62500.000000</td>\n",
              "    </tr>\n",
              "    <tr>\n",
              "      <th>7</th>\n",
              "      <td>27.0</td>\n",
              "      <td>Co</td>\n",
              "      <td>1.400000e+02</td>\n",
              "      <td>met/sil (1600°C)</td>\n",
              "      <td>Moderately siderophile</td>\n",
              "      <td>104.200000</td>\n",
              "      <td>0.191964</td>\n",
              "      <td>ppm</td>\n",
              "      <td>502.0000</td>\n",
              "      <td>17.0000</td>\n",
              "      <td>104.200000</td>\n",
              "    </tr>\n",
              "    <tr>\n",
              "      <th>8</th>\n",
              "      <td>28.0</td>\n",
              "      <td>Ni</td>\n",
              "      <td>1.300000e+03</td>\n",
              "      <td>met/sil (1600°C)</td>\n",
              "      <td>Moderately siderophile</td>\n",
              "      <td>0.199180</td>\n",
              "      <td>16.622180</td>\n",
              "      <td>%</td>\n",
              "      <td>10640.0000</td>\n",
              "      <td>210.0000</td>\n",
              "      <td>1991.800000</td>\n",
              "    </tr>\n",
              "    <tr>\n",
              "      <th>9</th>\n",
              "      <td>31.0</td>\n",
              "      <td>Ga</td>\n",
              "      <td>3.400000e+01</td>\n",
              "      <td>met/sil (1600°C)</td>\n",
              "      <td>Moderately siderophile</td>\n",
              "      <td>3.675000</td>\n",
              "      <td>0.003000</td>\n",
              "      <td>ppm</td>\n",
              "      <td>9.5100</td>\n",
              "      <td>0.3100</td>\n",
              "      <td>3.675000</td>\n",
              "    </tr>\n",
              "    <tr>\n",
              "      <th>10</th>\n",
              "      <td>42.0</td>\n",
              "      <td>Mo</td>\n",
              "      <td>6.100000e+04</td>\n",
              "      <td>met/sil (1600°C)</td>\n",
              "      <td>Moderately siderophile</td>\n",
              "      <td>0.062000</td>\n",
              "      <td>0.007064</td>\n",
              "      <td>ppm</td>\n",
              "      <td>1.0200</td>\n",
              "      <td>0.1100</td>\n",
              "      <td>0.062000</td>\n",
              "    </tr>\n",
              "    <tr>\n",
              "      <th>11</th>\n",
              "      <td>74.0</td>\n",
              "      <td>W</td>\n",
              "      <td>2.400000e+01</td>\n",
              "      <td>met/sil (1600°C)</td>\n",
              "      <td>Moderately siderophile</td>\n",
              "      <td>20.366667</td>\n",
              "      <td>0.945270</td>\n",
              "      <td>ppb</td>\n",
              "      <td>0.0890</td>\n",
              "      <td>0.0070</td>\n",
              "      <td>0.020367</td>\n",
              "    </tr>\n",
              "    <tr>\n",
              "      <th>12</th>\n",
              "      <td>46.0</td>\n",
              "      <td>Pd</td>\n",
              "      <td>5.600000e+05</td>\n",
              "      <td>met/sil (1300°C)</td>\n",
              "      <td>Highly siderophile</td>\n",
              "      <td>4.450000</td>\n",
              "      <td>3.336998</td>\n",
              "      <td>ppb</td>\n",
              "      <td>0.5880</td>\n",
              "      <td>0.0200</td>\n",
              "      <td>0.004450</td>\n",
              "    </tr>\n",
              "    <tr>\n",
              "      <th>13</th>\n",
              "      <td>77.0</td>\n",
              "      <td>Ir</td>\n",
              "      <td>8.000000e+10</td>\n",
              "      <td>met/sil (1300°C)</td>\n",
              "      <td>Highly siderophile</td>\n",
              "      <td>3.070000</td>\n",
              "      <td>18.659946</td>\n",
              "      <td>ppb</td>\n",
              "      <td>0.4700</td>\n",
              "      <td>0.0050</td>\n",
              "      <td>0.003070</td>\n",
              "    </tr>\n",
              "    <tr>\n",
              "      <th>14</th>\n",
              "      <td>79.0</td>\n",
              "      <td>Au</td>\n",
              "      <td>3.100000e+05</td>\n",
              "      <td>met/sil (1300°C)</td>\n",
              "      <td>Highly siderophile</td>\n",
              "      <td>0.768500</td>\n",
              "      <td>6.392769</td>\n",
              "      <td>ppb</td>\n",
              "      <td>0.1460</td>\n",
              "      <td>0.0020</td>\n",
              "      <td>0.000768</td>\n",
              "    </tr>\n",
              "  </tbody>\n",
              "</table>\n",
              "</div>\n",
              "      <button class=\"colab-df-convert\" onclick=\"convertToInteractive('df-1ad18e91-2269-449e-bb6e-9d6f60a2798b')\"\n",
              "              title=\"Convert this dataframe to an interactive table.\"\n",
              "              style=\"display:none;\">\n",
              "        \n",
              "  <svg xmlns=\"http://www.w3.org/2000/svg\" height=\"24px\"viewBox=\"0 0 24 24\"\n",
              "       width=\"24px\">\n",
              "    <path d=\"M0 0h24v24H0V0z\" fill=\"none\"/>\n",
              "    <path d=\"M18.56 5.44l.94 2.06.94-2.06 2.06-.94-2.06-.94-.94-2.06-.94 2.06-2.06.94zm-11 1L8.5 8.5l.94-2.06 2.06-.94-2.06-.94L8.5 2.5l-.94 2.06-2.06.94zm10 10l.94 2.06.94-2.06 2.06-.94-2.06-.94-.94-2.06-.94 2.06-2.06.94z\"/><path d=\"M17.41 7.96l-1.37-1.37c-.4-.4-.92-.59-1.43-.59-.52 0-1.04.2-1.43.59L10.3 9.45l-7.72 7.72c-.78.78-.78 2.05 0 2.83L4 21.41c.39.39.9.59 1.41.59.51 0 1.02-.2 1.41-.59l7.78-7.78 2.81-2.81c.8-.78.8-2.07 0-2.86zM5.41 20L4 18.59l7.72-7.72 1.47 1.35L5.41 20z\"/>\n",
              "  </svg>\n",
              "      </button>\n",
              "      \n",
              "  <style>\n",
              "    .colab-df-container {\n",
              "      display:flex;\n",
              "      flex-wrap:wrap;\n",
              "      gap: 12px;\n",
              "    }\n",
              "\n",
              "    .colab-df-convert {\n",
              "      background-color: #E8F0FE;\n",
              "      border: none;\n",
              "      border-radius: 50%;\n",
              "      cursor: pointer;\n",
              "      display: none;\n",
              "      fill: #1967D2;\n",
              "      height: 32px;\n",
              "      padding: 0 0 0 0;\n",
              "      width: 32px;\n",
              "    }\n",
              "\n",
              "    .colab-df-convert:hover {\n",
              "      background-color: #E2EBFA;\n",
              "      box-shadow: 0px 1px 2px rgba(60, 64, 67, 0.3), 0px 1px 3px 1px rgba(60, 64, 67, 0.15);\n",
              "      fill: #174EA6;\n",
              "    }\n",
              "\n",
              "    [theme=dark] .colab-df-convert {\n",
              "      background-color: #3B4455;\n",
              "      fill: #D2E3FC;\n",
              "    }\n",
              "\n",
              "    [theme=dark] .colab-df-convert:hover {\n",
              "      background-color: #434B5C;\n",
              "      box-shadow: 0px 1px 3px 1px rgba(0, 0, 0, 0.15);\n",
              "      filter: drop-shadow(0px 1px 2px rgba(0, 0, 0, 0.3));\n",
              "      fill: #FFFFFF;\n",
              "    }\n",
              "  </style>\n",
              "\n",
              "      <script>\n",
              "        const buttonEl =\n",
              "          document.querySelector('#df-1ad18e91-2269-449e-bb6e-9d6f60a2798b button.colab-df-convert');\n",
              "        buttonEl.style.display =\n",
              "          google.colab.kernel.accessAllowed ? 'block' : 'none';\n",
              "\n",
              "        async function convertToInteractive(key) {\n",
              "          const element = document.querySelector('#df-1ad18e91-2269-449e-bb6e-9d6f60a2798b');\n",
              "          const dataTable =\n",
              "            await google.colab.kernel.invokeFunction('convertToInteractive',\n",
              "                                                     [key], {});\n",
              "          if (!dataTable) return;\n",
              "\n",
              "          const docLinkHtml = 'Like what you see? Visit the ' +\n",
              "            '<a target=\"_blank\" href=https://colab.research.google.com/notebooks/data_table.ipynb>data table notebook</a>'\n",
              "            + ' to learn more about interactive tables.';\n",
              "          element.innerHTML = '';\n",
              "          dataTable['output_type'] = 'display_data';\n",
              "          await google.colab.output.renderOutput(dataTable, element);\n",
              "          const docLink = document.createElement('div');\n",
              "          docLink.innerHTML = docLinkHtml;\n",
              "          element.appendChild(docLink);\n",
              "        }\n",
              "      </script>\n",
              "    </div>\n",
              "  </div>\n",
              "  "
            ]
          },
          "metadata": {},
          "execution_count": 30
        }
      ],
      "source": [
        ""
      ]
    },
    {
      "cell_type": "markdown",
      "source": [
        "## 3.0 Plotting and saving data"
      ],
      "metadata": {
        "id": "rEIgYc3F-f64"
      },
      "id": "rEIgYc3F-f64"
    },
    {
      "cell_type": "markdown",
      "source": [
        "### 3.1 Plotting the data\n",
        "\n",
        "At this point it makes sense to visualise the data to see what it looks like. There are many differnt ways that this can be accomplished with Python.\n",
        "\n",
        "Here we will use the built in plot function in the pandas libary. \n",
        "\n",
        "We just need to specify which column needs to be used as the x and y axis. Here we will want to see the abundance of each element, 'element' will be the horizontal axis and 'Earth Crust Mean ppm' will be the vertical.\n"
      ],
      "metadata": {
        "id": "bN0gAGhwI1ru"
      },
      "id": "bN0gAGhwI1ru"
    },
    {
      "cell_type": "markdown",
      "source": [
        "3.1.1 **Example** makeing a basic plot"
      ],
      "metadata": {
        "id": "sHZyKDaj-pzw"
      },
      "id": "sHZyKDaj-pzw"
    },
    {
      "cell_type": "code",
      "source": [
        "composition.plot(y='Earth Crust Mean ppm', x='element')"
      ],
      "metadata": {
        "id": "m3qKY3w4I00R",
        "colab": {
          "base_uri": "https://localhost:8080/",
          "height": 296
        },
        "outputId": "73133801-8ab6-4815-d1a2-8bdcb52fc802"
      },
      "id": "m3qKY3w4I00R",
      "execution_count": null,
      "outputs": [
        {
          "output_type": "execute_result",
          "data": {
            "text/plain": [
              "<matplotlib.axes._subplots.AxesSubplot at 0x7f0a3019d590>"
            ]
          },
          "metadata": {},
          "execution_count": 31
        },
        {
          "output_type": "display_data",
          "data": {
            "text/plain": [
              "<Figure size 432x288 with 1 Axes>"
            ],
            "image/png": "[encoded data removed]"
          },
          "metadata": {
            "needs_background": "light"
          }
        }
      ]
    },
    {
      "cell_type": "markdown",
      "source": [
        "### 3.2 Saving results\n",
        "\n",
        "After performing a set of analysis it makes sense to save off your output. \n",
        "\n",
        "First to save the modified dataframe as an excel file use the command below. (you could save as a csv or many other formats instead)\n",
        "\n",
        "**note** we created a variable ```results_path``` at the begining of the notebook. Since that is a string you just need to come up with a file name, and remember to add the '.xlsx' tail so that the command creates a mondern excel file."
      ],
      "metadata": {
        "id": "waUQSQPlYQXl"
      },
      "id": "waUQSQPlYQXl"
    },
    {
      "cell_type": "markdown",
      "source": [
        "#### 3.2.1 Example of saving a figure from pandas"
      ],
      "metadata": {
        "id": "NUMvq0nLeG-m"
      },
      "id": "NUMvq0nLeG-m"
    },
    {
      "cell_type": "code",
      "source": [
        "fig = composition.plot(y='Earth Crust Mean ppm', x='element',color= 'DarkRed').get_figure()\n",
        "\n",
        "fig.savefig(results_path+'element_abundace.png')"
      ],
      "metadata": {
        "id": "shNMaXRVI03v",
        "colab": {
          "base_uri": "https://localhost:8080/",
          "height": 279
        },
        "outputId": "7b7cb055-011f-4d2c-9d35-835c67f76c6a"
      },
      "id": "shNMaXRVI03v",
      "execution_count": null,
      "outputs": [
        {
          "output_type": "display_data",
          "data": {
            "text/plain": [
              "<Figure size 432x288 with 1 Axes>"
            ],
            "image/png": "[encoded data removed]"
          },
          "metadata": {
            "needs_background": "light"
          }
        }
      ]
    },
    {
      "cell_type": "markdown",
      "source": [
        "#### 3.2.2 Example of saving a dataframe"
      ],
      "metadata": {
        "id": "W5RIOj_Kdyt2"
      },
      "id": "W5RIOj_Kdyt2"
    },
    {
      "cell_type": "code",
      "source": [
        "composition"
      ],
      "metadata": {
        "id": "oVsapS-kzwLO"
      },
      "id": "oVsapS-kzwLO",
      "execution_count": null,
      "outputs": []
    },
    {
      "cell_type": "code",
      "source": [
        "composition.to_excel(results_path+'rescaled_earth_composition.xlsx', index=False)"
      ],
      "metadata": {
        "id": "3Yy9aZA20Mvv"
      },
      "id": "3Yy9aZA20Mvv",
      "execution_count": null,
      "outputs": []
    },
    {
      "cell_type": "markdown",
      "source": [
        "Now to save the figure we need to do something a little different. When we are plotting with the pandas functions, we are actually working with the **matplotlib** libary to produce the plot. In order to save the file, we need to tell matplotlib to get the figure that pandas produced and then it handles the saving.  "
      ],
      "metadata": {
        "id": "wtNHUJklbulo"
      },
      "id": "wtNHUJklbulo"
    },
    {
      "cell_type": "markdown",
      "source": [
        "## 4.0 Cutomising the plot"
      ],
      "metadata": {
        "id": "vb5f6uyQ_CtL"
      },
      "id": "vb5f6uyQ_CtL"
    },
    {
      "cell_type": "markdown",
      "source": [
        "#### 4.1.1 Example of keyword plot specification.\n",
        "\n",
        "first reload the data you have just saved."
      ],
      "metadata": {
        "id": "JUKQK_i9qBEL"
      },
      "id": "JUKQK_i9qBEL"
    },
    {
      "cell_type": "code",
      "source": [
        "composition=pd.read_excel(results_path+'rescaled_earth_composition.xlsx')"
      ],
      "metadata": {
        "id": "y3viZKfMzULb"
      },
      "id": "y3viZKfMzULb",
      "execution_count": null,
      "outputs": []
    },
    {
      "cell_type": "markdown",
      "source": [
        "quick reminder of what columns are present"
      ],
      "metadata": {
        "id": "8o-udw5u5aJu"
      },
      "id": "8o-udw5u5aJu"
    },
    {
      "cell_type": "code",
      "source": [
        "composition.columns"
      ],
      "metadata": {
        "colab": {
          "base_uri": "https://localhost:8080/"
        },
        "id": "X4xh6Cfb2RZy",
        "outputId": "d3ae5682-eec2-492f-c8cc-e745940b6945"
      },
      "id": "X4xh6Cfb2RZy",
      "execution_count": null,
      "outputs": [
        {
          "output_type": "execute_result",
          "data": {
            "text/plain": [
              "Index(['atomic number', 'element', 'D value', 'D value temp',\n",
              "       'class of element', 'Earth Crust Mean', 'Earth Crust 1σ',\n",
              "       'Measurement units', 'Solar System Mean (ppm)', 'Solar System  1σ',\n",
              "       'Earth Crust Mean ppm'],\n",
              "      dtype='object')"
            ]
          },
          "metadata": {},
          "execution_count": 36
        }
      ]
    },
    {
      "cell_type": "code",
      "source": [
        "composition"
      ],
      "metadata": {
        "colab": {
          "base_uri": "https://localhost:8080/",
          "height": 519
        },
        "id": "nHVC0YwOzFAF",
        "outputId": "537c5bf5-906a-4134-eca6-05aa9a90e1a8"
      },
      "id": "nHVC0YwOzFAF",
      "execution_count": null,
      "outputs": [
        {
          "output_type": "execute_result",
          "data": {
            "text/plain": [
              "    atomic number element       D value      D value temp  \\\n",
              "0              14      Si  4.800000e-03  met/sil (1600°C)   \n",
              "1              23       V  5.600000e-01  met/sil (1600°C)   \n",
              "2              24      Cr  3.500000e-01  met/sil (1600°C)   \n",
              "3              25      Mn  2.000000e-02  met/sil (1600°C)   \n",
              "4              73      Ta  9.700000e-04  met/sil (1600°C)   \n",
              "5              15       P  1.700000e+02  met/sil (1600°C)   \n",
              "6              26      Fe  1.300000e+01  met/sil (1600°C)   \n",
              "7              27      Co  1.400000e+02  met/sil (1600°C)   \n",
              "8              28      Ni  1.300000e+03  met/sil (1600°C)   \n",
              "9              31      Ga  3.400000e+01  met/sil (1600°C)   \n",
              "10             42      Mo  6.100000e+04  met/sil (1600°C)   \n",
              "11             74       W  2.400000e+01  met/sil (1600°C)   \n",
              "12             46      Pd  5.600000e+05  met/sil (1300°C)   \n",
              "13             77      Ir  8.000000e+10  met/sil (1300°C)   \n",
              "14             79      Au  3.100000e+05  met/sil (1300°C)   \n",
              "\n",
              "          class of element  Earth Crust Mean  Earth Crust 1σ  \\\n",
              "0               Liphophile         21.782000      259.199228   \n",
              "1               Liphophile         91.220000        0.396074   \n",
              "2               Liphophile       2857.600000        0.321989   \n",
              "3               Liphophile       1043.400000        3.544009   \n",
              "4               Liphophile         36.650000        0.241247   \n",
              "5   Moderately siderophile         77.125000        0.550000   \n",
              "6   Moderately siderophile          6.250000       39.189795   \n",
              "7   Moderately siderophile        104.200000        0.191964   \n",
              "8   Moderately siderophile          0.199180       16.622180   \n",
              "9   Moderately siderophile          3.675000        0.003000   \n",
              "10  Moderately siderophile          0.062000        0.007064   \n",
              "11  Moderately siderophile         20.366667        0.945270   \n",
              "12      Highly siderophile          4.450000        3.336998   \n",
              "13      Highly siderophile          3.070000       18.659946   \n",
              "14      Highly siderophile          0.768500        6.392769   \n",
              "\n",
              "   Measurement units  Solar System Mean (ppm)  Solar System  1σ  \\\n",
              "0                  %              106500.0000         1250.0000   \n",
              "1                ppm                  55.7000            1.3000   \n",
              "2                ppm                2590.0000           80.0000   \n",
              "3                ppm                1910.0000           40.0000   \n",
              "4                ppb                   0.0144            0.0001   \n",
              "5                ppm                 920.0000          100.0000   \n",
              "6                  %              182800.0000         1470.0000   \n",
              "7                ppm                 502.0000           17.0000   \n",
              "8                  %               10640.0000          210.0000   \n",
              "9                ppm                   9.5100            0.3100   \n",
              "10               ppm                   1.0200            0.1100   \n",
              "11               ppb                   0.0890            0.0070   \n",
              "12               ppb                   0.5880            0.0200   \n",
              "13               ppb                   0.4700            0.0050   \n",
              "14               ppb                   0.1460            0.0020   \n",
              "\n",
              "    Earth Crust Mean ppm  \n",
              "0          217820.000000  \n",
              "1              91.220000  \n",
              "2            2857.600000  \n",
              "3            1043.400000  \n",
              "4               0.036650  \n",
              "5              77.125000  \n",
              "6           62500.000000  \n",
              "7             104.200000  \n",
              "8            1991.800000  \n",
              "9               3.675000  \n",
              "10              0.062000  \n",
              "11              0.020367  \n",
              "12              0.004450  \n",
              "13              0.003070  \n",
              "14              0.000768  "
            ],
            "text/html": [
              "\n",
              "  <div id=\"df-a0bc0872-4725-4f8a-bb69-4bdf8d5462fd\">\n",
              "    <div class=\"colab-df-container\">\n",
              "      <div>\n",
              "<style scoped>\n",
              "    .dataframe tbody tr th:only-of-type {\n",
              "        vertical-align: middle;\n",
              "    }\n",
              "\n",
              "    .dataframe tbody tr th {\n",
              "        vertical-align: top;\n",
              "    }\n",
              "\n",
              "    .dataframe thead th {\n",
              "        text-align: right;\n",
              "    }\n",
              "</style>\n",
              "<table border=\"1\" class=\"dataframe\">\n",
              "  <thead>\n",
              "    <tr style=\"text-align: right;\">\n",
              "      <th></th>\n",
              "      <th>atomic number</th>\n",
              "      <th>element</th>\n",
              "      <th>D value</th>\n",
              "      <th>D value temp</th>\n",
              "      <th>class of element</th>\n",
              "      <th>Earth Crust Mean</th>\n",
              "      <th>Earth Crust 1σ</th>\n",
              "      <th>Measurement units</th>\n",
              "      <th>Solar System Mean (ppm)</th>\n",
              "      <th>Solar System  1σ</th>\n",
              "      <th>Earth Crust Mean ppm</th>\n",
              "    </tr>\n",
              "  </thead>\n",
              "  <tbody>\n",
              "    <tr>\n",
              "      <th>0</th>\n",
              "      <td>14</td>\n",
              "      <td>Si</td>\n",
              "      <td>4.800000e-03</td>\n",
              "      <td>met/sil (1600°C)</td>\n",
              "      <td>Liphophile</td>\n",
              "      <td>21.782000</td>\n",
              "      <td>259.199228</td>\n",
              "      <td>%</td>\n",
              "      <td>106500.0000</td>\n",
              "      <td>1250.0000</td>\n",
              "      <td>217820.000000</td>\n",
              "    </tr>\n",
              "    <tr>\n",
              "      <th>1</th>\n",
              "      <td>23</td>\n",
              "      <td>V</td>\n",
              "      <td>5.600000e-01</td>\n",
              "      <td>met/sil (1600°C)</td>\n",
              "      <td>Liphophile</td>\n",
              "      <td>91.220000</td>\n",
              "      <td>0.396074</td>\n",
              "      <td>ppm</td>\n",
              "      <td>55.7000</td>\n",
              "      <td>1.3000</td>\n",
              "      <td>91.220000</td>\n",
              "    </tr>\n",
              "    <tr>\n",
              "      <th>2</th>\n",
              "      <td>24</td>\n",
              "      <td>Cr</td>\n",
              "      <td>3.500000e-01</td>\n",
              "      <td>met/sil (1600°C)</td>\n",
              "      <td>Liphophile</td>\n",
              "      <td>2857.600000</td>\n",
              "      <td>0.321989</td>\n",
              "      <td>ppm</td>\n",
              "      <td>2590.0000</td>\n",
              "      <td>80.0000</td>\n",
              "      <td>2857.600000</td>\n",
              "    </tr>\n",
              "    <tr>\n",
              "      <th>3</th>\n",
              "      <td>25</td>\n",
              "      <td>Mn</td>\n",
              "      <td>2.000000e-02</td>\n",
              "      <td>met/sil (1600°C)</td>\n",
              "      <td>Liphophile</td>\n",
              "      <td>1043.400000</td>\n",
              "      <td>3.544009</td>\n",
              "      <td>ppm</td>\n",
              "      <td>1910.0000</td>\n",
              "      <td>40.0000</td>\n",
              "      <td>1043.400000</td>\n",
              "    </tr>\n",
              "    <tr>\n",
              "      <th>4</th>\n",
              "      <td>73</td>\n",
              "      <td>Ta</td>\n",
              "      <td>9.700000e-04</td>\n",
              "      <td>met/sil (1600°C)</td>\n",
              "      <td>Liphophile</td>\n",
              "      <td>36.650000</td>\n",
              "      <td>0.241247</td>\n",
              "      <td>ppb</td>\n",
              "      <td>0.0144</td>\n",
              "      <td>0.0001</td>\n",
              "      <td>0.036650</td>\n",
              "    </tr>\n",
              "    <tr>\n",
              "      <th>5</th>\n",
              "      <td>15</td>\n",
              "      <td>P</td>\n",
              "      <td>1.700000e+02</td>\n",
              "      <td>met/sil (1600°C)</td>\n",
              "      <td>Moderately siderophile</td>\n",
              "      <td>77.125000</td>\n",
              "      <td>0.550000</td>\n",
              "      <td>ppm</td>\n",
              "      <td>920.0000</td>\n",
              "      <td>100.0000</td>\n",
              "      <td>77.125000</td>\n",
              "    </tr>\n",
              "    <tr>\n",
              "      <th>6</th>\n",
              "      <td>26</td>\n",
              "      <td>Fe</td>\n",
              "      <td>1.300000e+01</td>\n",
              "      <td>met/sil (1600°C)</td>\n",
              "      <td>Moderately siderophile</td>\n",
              "      <td>6.250000</td>\n",
              "      <td>39.189795</td>\n",
              "      <td>%</td>\n",
              "      <td>182800.0000</td>\n",
              "      <td>1470.0000</td>\n",
              "      <td>62500.000000</td>\n",
              "    </tr>\n",
              "    <tr>\n",
              "      <th>7</th>\n",
              "      <td>27</td>\n",
              "      <td>Co</td>\n",
              "      <td>1.400000e+02</td>\n",
              "      <td>met/sil (1600°C)</td>\n",
              "      <td>Moderately siderophile</td>\n",
              "      <td>104.200000</td>\n",
              "      <td>0.191964</td>\n",
              "      <td>ppm</td>\n",
              "      <td>502.0000</td>\n",
              "      <td>17.0000</td>\n",
              "      <td>104.200000</td>\n",
              "    </tr>\n",
              "    <tr>\n",
              "      <th>8</th>\n",
              "      <td>28</td>\n",
              "      <td>Ni</td>\n",
              "      <td>1.300000e+03</td>\n",
              "      <td>met/sil (1600°C)</td>\n",
              "      <td>Moderately siderophile</td>\n",
              "      <td>0.199180</td>\n",
              "      <td>16.622180</td>\n",
              "      <td>%</td>\n",
              "      <td>10640.0000</td>\n",
              "      <td>210.0000</td>\n",
              "      <td>1991.800000</td>\n",
              "    </tr>\n",
              "    <tr>\n",
              "      <th>9</th>\n",
              "      <td>31</td>\n",
              "      <td>Ga</td>\n",
              "      <td>3.400000e+01</td>\n",
              "      <td>met/sil (1600°C)</td>\n",
              "      <td>Moderately siderophile</td>\n",
              "      <td>3.675000</td>\n",
              "      <td>0.003000</td>\n",
              "      <td>ppm</td>\n",
              "      <td>9.5100</td>\n",
              "      <td>0.3100</td>\n",
              "      <td>3.675000</td>\n",
              "    </tr>\n",
              "    <tr>\n",
              "      <th>10</th>\n",
              "      <td>42</td>\n",
              "      <td>Mo</td>\n",
              "      <td>6.100000e+04</td>\n",
              "      <td>met/sil (1600°C)</td>\n",
              "      <td>Moderately siderophile</td>\n",
              "      <td>0.062000</td>\n",
              "      <td>0.007064</td>\n",
              "      <td>ppm</td>\n",
              "      <td>1.0200</td>\n",
              "      <td>0.1100</td>\n",
              "      <td>0.062000</td>\n",
              "    </tr>\n",
              "    <tr>\n",
              "      <th>11</th>\n",
              "      <td>74</td>\n",
              "      <td>W</td>\n",
              "      <td>2.400000e+01</td>\n",
              "      <td>met/sil (1600°C)</td>\n",
              "      <td>Moderately siderophile</td>\n",
              "      <td>20.366667</td>\n",
              "      <td>0.945270</td>\n",
              "      <td>ppb</td>\n",
              "      <td>0.0890</td>\n",
              "      <td>0.0070</td>\n",
              "      <td>0.020367</td>\n",
              "    </tr>\n",
              "    <tr>\n",
              "      <th>12</th>\n",
              "      <td>46</td>\n",
              "      <td>Pd</td>\n",
              "      <td>5.600000e+05</td>\n",
              "      <td>met/sil (1300°C)</td>\n",
              "      <td>Highly siderophile</td>\n",
              "      <td>4.450000</td>\n",
              "      <td>3.336998</td>\n",
              "      <td>ppb</td>\n",
              "      <td>0.5880</td>\n",
              "      <td>0.0200</td>\n",
              "      <td>0.004450</td>\n",
              "    </tr>\n",
              "    <tr>\n",
              "      <th>13</th>\n",
              "      <td>77</td>\n",
              "      <td>Ir</td>\n",
              "      <td>8.000000e+10</td>\n",
              "      <td>met/sil (1300°C)</td>\n",
              "      <td>Highly siderophile</td>\n",
              "      <td>3.070000</td>\n",
              "      <td>18.659946</td>\n",
              "      <td>ppb</td>\n",
              "      <td>0.4700</td>\n",
              "      <td>0.0050</td>\n",
              "      <td>0.003070</td>\n",
              "    </tr>\n",
              "    <tr>\n",
              "      <th>14</th>\n",
              "      <td>79</td>\n",
              "      <td>Au</td>\n",
              "      <td>3.100000e+05</td>\n",
              "      <td>met/sil (1300°C)</td>\n",
              "      <td>Highly siderophile</td>\n",
              "      <td>0.768500</td>\n",
              "      <td>6.392769</td>\n",
              "      <td>ppb</td>\n",
              "      <td>0.1460</td>\n",
              "      <td>0.0020</td>\n",
              "      <td>0.000768</td>\n",
              "    </tr>\n",
              "  </tbody>\n",
              "</table>\n",
              "</div>\n",
              "      <button class=\"colab-df-convert\" onclick=\"convertToInteractive('df-a0bc0872-4725-4f8a-bb69-4bdf8d5462fd')\"\n",
              "              title=\"Convert this dataframe to an interactive table.\"\n",
              "              style=\"display:none;\">\n",
              "        \n",
              "  <svg xmlns=\"http://www.w3.org/2000/svg\" height=\"24px\"viewBox=\"0 0 24 24\"\n",
              "       width=\"24px\">\n",
              "    <path d=\"M0 0h24v24H0V0z\" fill=\"none\"/>\n",
              "    <path d=\"M18.56 5.44l.94 2.06.94-2.06 2.06-.94-2.06-.94-.94-2.06-.94 2.06-2.06.94zm-11 1L8.5 8.5l.94-2.06 2.06-.94-2.06-.94L8.5 2.5l-.94 2.06-2.06.94zm10 10l.94 2.06.94-2.06 2.06-.94-2.06-.94-.94-2.06-.94 2.06-2.06.94z\"/><path d=\"M17.41 7.96l-1.37-1.37c-.4-.4-.92-.59-1.43-.59-.52 0-1.04.2-1.43.59L10.3 9.45l-7.72 7.72c-.78.78-.78 2.05 0 2.83L4 21.41c.39.39.9.59 1.41.59.51 0 1.02-.2 1.41-.59l7.78-7.78 2.81-2.81c.8-.78.8-2.07 0-2.86zM5.41 20L4 18.59l7.72-7.72 1.47 1.35L5.41 20z\"/>\n",
              "  </svg>\n",
              "      </button>\n",
              "      \n",
              "  <style>\n",
              "    .colab-df-container {\n",
              "      display:flex;\n",
              "      flex-wrap:wrap;\n",
              "      gap: 12px;\n",
              "    }\n",
              "\n",
              "    .colab-df-convert {\n",
              "      background-color: #E8F0FE;\n",
              "      border: none;\n",
              "      border-radius: 50%;\n",
              "      cursor: pointer;\n",
              "      display: none;\n",
              "      fill: #1967D2;\n",
              "      height: 32px;\n",
              "      padding: 0 0 0 0;\n",
              "      width: 32px;\n",
              "    }\n",
              "\n",
              "    .colab-df-convert:hover {\n",
              "      background-color: #E2EBFA;\n",
              "      box-shadow: 0px 1px 2px rgba(60, 64, 67, 0.3), 0px 1px 3px 1px rgba(60, 64, 67, 0.15);\n",
              "      fill: #174EA6;\n",
              "    }\n",
              "\n",
              "    [theme=dark] .colab-df-convert {\n",
              "      background-color: #3B4455;\n",
              "      fill: #D2E3FC;\n",
              "    }\n",
              "\n",
              "    [theme=dark] .colab-df-convert:hover {\n",
              "      background-color: #434B5C;\n",
              "      box-shadow: 0px 1px 3px 1px rgba(0, 0, 0, 0.15);\n",
              "      filter: drop-shadow(0px 1px 2px rgba(0, 0, 0, 0.3));\n",
              "      fill: #FFFFFF;\n",
              "    }\n",
              "  </style>\n",
              "\n",
              "      <script>\n",
              "        const buttonEl =\n",
              "          document.querySelector('#df-a0bc0872-4725-4f8a-bb69-4bdf8d5462fd button.colab-df-convert');\n",
              "        buttonEl.style.display =\n",
              "          google.colab.kernel.accessAllowed ? 'block' : 'none';\n",
              "\n",
              "        async function convertToInteractive(key) {\n",
              "          const element = document.querySelector('#df-a0bc0872-4725-4f8a-bb69-4bdf8d5462fd');\n",
              "          const dataTable =\n",
              "            await google.colab.kernel.invokeFunction('convertToInteractive',\n",
              "                                                     [key], {});\n",
              "          if (!dataTable) return;\n",
              "\n",
              "          const docLinkHtml = 'Like what you see? Visit the ' +\n",
              "            '<a target=\"_blank\" href=https://colab.research.google.com/notebooks/data_table.ipynb>data table notebook</a>'\n",
              "            + ' to learn more about interactive tables.';\n",
              "          element.innerHTML = '';\n",
              "          dataTable['output_type'] = 'display_data';\n",
              "          await google.colab.output.renderOutput(dataTable, element);\n",
              "          const docLink = document.createElement('div');\n",
              "          docLink.innerHTML = docLinkHtml;\n",
              "          element.appendChild(docLink);\n",
              "        }\n",
              "      </script>\n",
              "    </div>\n",
              "  </div>\n",
              "  "
            ]
          },
          "metadata": {},
          "execution_count": 37
        }
      ]
    },
    {
      "cell_type": "markdown",
      "source": [
        "### 4.1 changing plot type\n",
        "\n",
        "Pandas by defalut is showing a line plot. This data in particualr is **discrete** elements, so it should be plotted using a scatter plot or bar chart.  Lukily, pandas  supports this through use of **keywords**. These are the built in plots.\n",
        "\n",
        "*   ‘bar’ or ‘barh’ for bar plots\n",
        "*   ‘hist’ for histogram\n",
        "*   ‘box’ for boxplot\n",
        "*  ‘kde’ or ‘density’ for density plots\n",
        "*  ‘area’ for area plots\n",
        "*  ‘scatter’ for scatter plots\n",
        "*  ‘hexbin’ for hexagonal bin plots\n",
        "*  ‘pie’ for pie plots\n",
        "\n",
        "You can access these in two way. First, by specifying the keywords inside  the (). Here is an example:\n",
        "\n",
        "\n"
      ],
      "metadata": {
        "id": "tNeTE5bXo3K1"
      },
      "id": "tNeTE5bXo3K1"
    },
    {
      "cell_type": "code",
      "source": [
        "composition.plot(y=['Earth Crust Mean ppm','Solar System Mean (ppm)'], x='element',kind='bar')"
      ],
      "metadata": {
        "id": "9iAZvOQQqMGA",
        "colab": {
          "base_uri": "https://localhost:8080/",
          "height": 301
        },
        "outputId": "cbd95d82-1ce6-4f04-de43-135578081a11"
      },
      "id": "9iAZvOQQqMGA",
      "execution_count": null,
      "outputs": [
        {
          "output_type": "execute_result",
          "data": {
            "text/plain": [
              "<matplotlib.axes._subplots.AxesSubplot at 0x7f0a300e0550>"
            ]
          },
          "metadata": {},
          "execution_count": 38
        },
        {
          "output_type": "display_data",
          "data": {
            "text/plain": [
              "<Figure size 432x288 with 1 Axes>"
            ],
            "image/png": "[encoded data removed]"
          },
          "metadata": {
            "needs_background": "light"
          }
        }
      ]
    },
    {
      "cell_type": "markdown",
      "source": [
        "**note** you can add an extra column (in this case the solar system elemental abundance) with the commands above. not all chart types will accept this method for plotting multiple columns at once. This is to enforce good use of approriate plots for specific data types.  We will learn how to 'break' these rules later in the course."
      ],
      "metadata": {
        "id": "dvmymy1l5F4_"
      },
      "id": "dvmymy1l5F4_"
    },
    {
      "cell_type": "markdown",
      "source": [
        "#### 4.1.2 Example of use outside the bracket.\n",
        "\n",
        "Pandas has also functionalised these plots so you can build them from the plot command like this:"
      ],
      "metadata": {
        "id": "xZf3dq8xqT44"
      },
      "id": "xZf3dq8xqT44"
    },
    {
      "cell_type": "code",
      "source": [
        "composition.plot.bar(y='Earth Crust Mean ppm', x='element', logy=True)"
      ],
      "metadata": {
        "colab": {
          "base_uri": "https://localhost:8080/",
          "height": 301
        },
        "id": "3kQqi5Lgqi2Q",
        "outputId": "52ff4dd9-dc83-4a00-b70a-c634a9160de1"
      },
      "id": "3kQqi5Lgqi2Q",
      "execution_count": null,
      "outputs": [
        {
          "output_type": "execute_result",
          "data": {
            "text/plain": [
              "<matplotlib.axes._subplots.AxesSubplot at 0x7f0a2ffeda10>"
            ]
          },
          "metadata": {},
          "execution_count": 39
        },
        {
          "output_type": "display_data",
          "data": {
            "text/plain": [
              "<Figure size 432x288 with 1 Axes>"
            ],
            "image/png": "[encoded data removed]"
          },
          "metadata": {
            "needs_background": "light"
          }
        }
      ]
    },
    {
      "cell_type": "markdown",
      "source": [
        "**note** to make the data display better I have turned the y-axis into a logorithmic scale, since the lower concentration data is supressed otherwise."
      ],
      "metadata": {
        "id": "QJNpv7h10HSx"
      },
      "id": "QJNpv7h10HSx"
    },
    {
      "cell_type": "markdown",
      "source": [
        "#### 4.1.3 Action \n",
        "Explore the plot kind keywords to examine differnt types of plots. Add extra input lines as necessary to see which style shows the variation in the data the best. \n",
        "\n",
        "**note** not all types of chart will be compatable with the data set"
      ],
      "metadata": {
        "id": "20da9nyryiDT"
      },
      "id": "20da9nyryiDT"
    },
    {
      "cell_type": "code",
      "source": [
        ""
      ],
      "metadata": {
        "id": "o36Xsu8Z0YRx"
      },
      "id": "o36Xsu8Z0YRx",
      "execution_count": null,
      "outputs": []
    },
    {
      "cell_type": "code",
      "source": [
        ""
      ],
      "metadata": {
        "id": "PwK0nuuI0YU9"
      },
      "id": "PwK0nuuI0YU9",
      "execution_count": null,
      "outputs": []
    },
    {
      "cell_type": "code",
      "source": [
        ""
      ],
      "metadata": {
        "id": "i7kwLjGo0YYs"
      },
      "id": "i7kwLjGo0YYs",
      "execution_count": null,
      "outputs": []
    },
    {
      "cell_type": "code",
      "source": [
        ""
      ],
      "metadata": {
        "id": "CnIq97Dz0YiQ"
      },
      "id": "CnIq97Dz0YiQ",
      "execution_count": null,
      "outputs": []
    },
    {
      "cell_type": "code",
      "source": [
        ""
      ],
      "metadata": {
        "id": "NnPvyIwI0Yk8"
      },
      "id": "NnPvyIwI0Yk8",
      "execution_count": null,
      "outputs": []
    },
    {
      "cell_type": "markdown",
      "source": [
        "### 4.2 selecting colors and plot markers"
      ],
      "metadata": {
        "id": "7P0sQcPAqUHX"
      },
      "id": "7P0sQcPAqUHX"
    },
    {
      "cell_type": "markdown",
      "source": [
        "Here I have added in another specific command to modify how the figure labels the y-axis. Since you can see above it is labelling this with the last column title used. However, this data is not really 'CI Normalised' or even 'Normalised Silicate Earth'. Instead both actually represent the 'Elemental Depletion' as a result of the formation of the solar system. So we will use the ax1.set_ylabel() command to rename this axis.\n",
        "\n",
        "Remember if using a string to name the axis, then you need to put the words in-between ''.\n",
        "\n",
        "Further, since we are looking at very small deviations from 1, it is normal to plot these abundances up on a logarithmic scale. In both scatter plots add the parameter logy=True.\n",
        "\n",
        "Other keywords that you should become familiar with would include:\n",
        "\n",
        "color - this sets the single colour to be used for plotting the data selected. the default first colour to use is blue then the plot command will follow this colour cycle ( you can call these colours using a single letter):\n",
        "\n",
        "b: blue\n",
        "\n",
        "g: green\n",
        "\n",
        "r: red\n",
        "\n",
        "c: cyan\n",
        "\n",
        "m: magenta\n",
        "\n",
        "y: yellow\n",
        "\n",
        "k: black\n",
        "\n",
        "w: white\n",
        "\n",
        "More on how colour can be called can be found here: https://het.as.utexas.edu/HET/Software/Matplotlib/api/colors_api.html\n",
        "\n",
        "Further you can find a full list of named colours here: https://matplotlib.org/stable/gallery/color/named_colors.html\n",
        "\n",
        "marker- sets what symbol you can use to mark each data point. a full list of symbols can be found here: https://matplotlib.org/stable/api/markers_api.html\n",
        "\n",
        "\n",
        "\n",
        "label - set the name of the dataset (use this in the example  4.2.1)\n",
        "\n",
        "alpha - sets the transparency of the data plotted. goes from 0 (transparent) to 1 (fully opaque)\n",
        "\n",
        "c - allows to plot colours based on a set of categorical data\n",
        "\n",
        "cmap - selects what colour map to use for the categorical data being plotted (note these two can not be used with the keyword 'color')\n",
        "\n",
        "There are many many more keywords, but that is really beyond the scope of this lab."
      ],
      "metadata": {
        "id": "_dGxCj_Xonu3"
      },
      "id": "_dGxCj_Xonu3"
    },
    {
      "cell_type": "markdown",
      "source": [
        "#### 4.2.1 Example of changing color and marker shape"
      ],
      "metadata": {
        "id": "mzA6icXu0xGA"
      },
      "id": "mzA6icXu0xGA"
    },
    {
      "cell_type": "code",
      "source": [
        "composition.plot(kind='bar', y=['Earth Crust Mean ppm','Solar System Mean (ppm)'], x='element',logy=True,color=['DarkRed','Blue'],ylabel ='Measured Elemental Abundance (ppm)' )"
      ],
      "metadata": {
        "colab": {
          "base_uri": "https://localhost:8080/",
          "height": 615
        },
        "id": "m1Tf3uC50xxc",
        "outputId": "27f16ee2-7459-419d-f1ca-00d93bb9cc13"
      },
      "id": "m1Tf3uC50xxc",
      "execution_count": null,
      "outputs": [
        {
          "output_type": "execute_result",
          "data": {
            "text/plain": [
              "<matplotlib.axes._subplots.AxesSubplot at 0x7fed83fe9950>"
            ]
          },
          "metadata": {},
          "execution_count": 36
        },
        {
          "output_type": "display_data",
          "data": {
            "text/plain": [
              "<Figure size 1907x753 with 1 Axes>"
            ],
            "image/png": "[encoded data removed]"
          },
          "metadata": {
            "needs_background": "light"
          }
        }
      ]
    },
    {
      "cell_type": "markdown",
      "source": [
        "**note** have also added the keywork 'ylabel' to produce a y-axis label"
      ],
      "metadata": {
        "id": "uVLf9uIF1dkS"
      },
      "id": "uVLf9uIF1dkS"
    },
    {
      "cell_type": "markdown",
      "source": [
        "#### 4.2.2 Action - customise the color and marker shape\n",
        "\n",
        "Now that you have selected the plot you prefer, use the keywords above to customise the plot. Add extra input cells as needed to compare figures side by side."
      ],
      "metadata": {
        "id": "TrIUfWq80dYU"
      },
      "id": "TrIUfWq80dYU"
    },
    {
      "cell_type": "code",
      "source": [
        ""
      ],
      "metadata": {
        "id": "PnvCeGcX0Psl"
      },
      "id": "PnvCeGcX0Psl",
      "execution_count": null,
      "outputs": []
    },
    {
      "cell_type": "code",
      "execution_count": null,
      "id": "74c333b6",
      "metadata": {
        "id": "74c333b6"
      },
      "outputs": [],
      "source": [
        ""
      ]
    },
    {
      "cell_type": "markdown",
      "source": [
        "#### 4.2.3 Action Save revised figure\n",
        "\n",
        "Save off the final figure using the commands from Example 3.2.2."
      ],
      "metadata": {
        "id": "2mGqzCk_1pwA"
      },
      "id": "2mGqzCk_1pwA"
    },
    {
      "cell_type": "code",
      "source": [
        ""
      ],
      "metadata": {
        "id": "Tc5K0wsd1153"
      },
      "id": "Tc5K0wsd1153",
      "execution_count": null,
      "outputs": []
    },
    {
      "cell_type": "code",
      "source": [
        ""
      ],
      "metadata": {
        "id": "pFp-YlrY12xe"
      },
      "id": "pFp-YlrY12xe",
      "execution_count": null,
      "outputs": []
    },
    {
      "cell_type": "code",
      "source": [
        ""
      ],
      "metadata": {
        "id": "-IqyZLQW120D"
      },
      "id": "-IqyZLQW120D",
      "execution_count": null,
      "outputs": []
    },
    {
      "cell_type": "code",
      "source": [
        ""
      ],
      "metadata": {
        "id": "u_lWyktU122f"
      },
      "id": "u_lWyktU122f",
      "execution_count": null,
      "outputs": []
    },
    {
      "cell_type": "markdown",
      "source": [
        "## 5.0 Box Plots and Summary Statistics\n",
        "\n"
      ],
      "metadata": {
        "id": "trG4-cRrYB_n"
      },
      "id": "trG4-cRrYB_n"
    },
    {
      "cell_type": "markdown",
      "source": [
        "### 5.1 Box Plots\n",
        "\n",
        "While you were exploring differnt plot types hopefully you decided to examine the box plot.\n",
        "\n",
        "If not I will plot one of the data now.  I will discuss what these show for those of you that are unfamilar with them."
      ],
      "metadata": {
        "id": "hnF8DLxbgIcQ"
      },
      "id": "hnF8DLxbgIcQ"
    },
    {
      "cell_type": "markdown",
      "source": [
        "#### 5.1.1 Example box plot of crustal elemental abundance"
      ],
      "metadata": {
        "id": "CyE4f154gKpw"
      },
      "id": "CyE4f154gKpw"
    },
    {
      "cell_type": "code",
      "source": [
        "composition.plot.box(y='Earth Crust Mean ppm', x='element', logy=True)"
      ],
      "metadata": {
        "colab": {
          "base_uri": "https://localhost:8080/",
          "height": 677
        },
        "id": "VObzzk_YgOfq",
        "outputId": "3bcb0049-b241-4d7c-e535-b1221867b44b"
      },
      "id": "VObzzk_YgOfq",
      "execution_count": null,
      "outputs": [
        {
          "output_type": "execute_result",
          "data": {
            "text/plain": [
              "<matplotlib.axes._subplots.AxesSubplot at 0x7f2582b45f90>"
            ]
          },
          "metadata": {},
          "execution_count": 6
        },
        {
          "output_type": "display_data",
          "data": {
            "text/plain": [
              "<Figure size 1907x753 with 1 Axes>"
            ],
            "image/png": "[encoded data removed]"
          },
          "metadata": {
            "needs_background": "light"
          }
        }
      ]
    },
    {
      "cell_type": "markdown",
      "source": [
        "above you can observe that two of the data points are outliers, and by the shift of the mean (green line) they are pulling the population mean mean away from the true value."
      ],
      "metadata": {
        "id": "cmCmc5oSiTYN"
      },
      "id": "cmCmc5oSiTYN"
    },
    {
      "cell_type": "markdown",
      "source": [
        "### 5.2 Summary statistics\n",
        "\n",
        "The box plot above show the distribution of elemental abundances. To do this a set of summary statistics needed to be computed 'under the hood' so to speak.  This begs a question: \n",
        "\n",
        "### 'How do I produce these statistics?'\n",
        "\n",
        "### Answer:\n",
        "\n",
        "Within pandas the function ```.describe()```will calculate all these automatically, either for the whole dataframe or each column as desired.\n",
        "\n",
        "We will revist what each of these metrics mean in the coming weeks but for now, know that you can get them."
      ],
      "metadata": {
        "id": "YDx-ifs2gZQ8"
      },
      "id": "YDx-ifs2gZQ8"
    },
    {
      "cell_type": "markdown",
      "source": [
        "#### 5.2.1 Example of single column summary statistics"
      ],
      "metadata": {
        "id": "ma9zx-weg7nM"
      },
      "id": "ma9zx-weg7nM"
    },
    {
      "cell_type": "code",
      "source": [
        "composition[['Earth Crust Mean ppm']].describe()"
      ],
      "metadata": {
        "colab": {
          "base_uri": "https://localhost:8080/",
          "height": 299
        },
        "id": "sUxLclRag8P_",
        "outputId": "2d0610b3-9537-4ce0-df17-3575e2bf6f1b"
      },
      "id": "sUxLclRag8P_",
      "execution_count": null,
      "outputs": [
        {
          "output_type": "execute_result",
          "data": {
            "text/plain": [
              "       Earth Crust Mean ppm\n",
              "count             15.000000\n",
              "mean           19099.276487\n",
              "std            57254.640445\n",
              "min                0.000768\n",
              "25%                0.028508\n",
              "50%               77.125000\n",
              "75%             1517.600000\n",
              "max           217820.000000"
            ],
            "text/html": [
              "\n",
              "  <div id=\"df-a34d4807-b6d3-45b7-b76e-735b57ef8dca\">\n",
              "    <div class=\"colab-df-container\">\n",
              "      <div>\n",
              "<style scoped>\n",
              "    .dataframe tbody tr th:only-of-type {\n",
              "        vertical-align: middle;\n",
              "    }\n",
              "\n",
              "    .dataframe tbody tr th {\n",
              "        vertical-align: top;\n",
              "    }\n",
              "\n",
              "    .dataframe thead th {\n",
              "        text-align: right;\n",
              "    }\n",
              "</style>\n",
              "<table border=\"1\" class=\"dataframe\">\n",
              "  <thead>\n",
              "    <tr style=\"text-align: right;\">\n",
              "      <th></th>\n",
              "      <th>Earth Crust Mean ppm</th>\n",
              "    </tr>\n",
              "  </thead>\n",
              "  <tbody>\n",
              "    <tr>\n",
              "      <th>count</th>\n",
              "      <td>15.000000</td>\n",
              "    </tr>\n",
              "    <tr>\n",
              "      <th>mean</th>\n",
              "      <td>19099.276487</td>\n",
              "    </tr>\n",
              "    <tr>\n",
              "      <th>std</th>\n",
              "      <td>57254.640445</td>\n",
              "    </tr>\n",
              "    <tr>\n",
              "      <th>min</th>\n",
              "      <td>0.000768</td>\n",
              "    </tr>\n",
              "    <tr>\n",
              "      <th>25%</th>\n",
              "      <td>0.028508</td>\n",
              "    </tr>\n",
              "    <tr>\n",
              "      <th>50%</th>\n",
              "      <td>77.125000</td>\n",
              "    </tr>\n",
              "    <tr>\n",
              "      <th>75%</th>\n",
              "      <td>1517.600000</td>\n",
              "    </tr>\n",
              "    <tr>\n",
              "      <th>max</th>\n",
              "      <td>217820.000000</td>\n",
              "    </tr>\n",
              "  </tbody>\n",
              "</table>\n",
              "</div>\n",
              "      <button class=\"colab-df-convert\" onclick=\"convertToInteractive('df-a34d4807-b6d3-45b7-b76e-735b57ef8dca')\"\n",
              "              title=\"Convert this dataframe to an interactive table.\"\n",
              "              style=\"display:none;\">\n",
              "        \n",
              "  <svg xmlns=\"http://www.w3.org/2000/svg\" height=\"24px\"viewBox=\"0 0 24 24\"\n",
              "       width=\"24px\">\n",
              "    <path d=\"M0 0h24v24H0V0z\" fill=\"none\"/>\n",
              "    <path d=\"M18.56 5.44l.94 2.06.94-2.06 2.06-.94-2.06-.94-.94-2.06-.94 2.06-2.06.94zm-11 1L8.5 8.5l.94-2.06 2.06-.94-2.06-.94L8.5 2.5l-.94 2.06-2.06.94zm10 10l.94 2.06.94-2.06 2.06-.94-2.06-.94-.94-2.06-.94 2.06-2.06.94z\"/><path d=\"M17.41 7.96l-1.37-1.37c-.4-.4-.92-.59-1.43-.59-.52 0-1.04.2-1.43.59L10.3 9.45l-7.72 7.72c-.78.78-.78 2.05 0 2.83L4 21.41c.39.39.9.59 1.41.59.51 0 1.02-.2 1.41-.59l7.78-7.78 2.81-2.81c.8-.78.8-2.07 0-2.86zM5.41 20L4 18.59l7.72-7.72 1.47 1.35L5.41 20z\"/>\n",
              "  </svg>\n",
              "      </button>\n",
              "      \n",
              "  <style>\n",
              "    .colab-df-container {\n",
              "      display:flex;\n",
              "      flex-wrap:wrap;\n",
              "      gap: 12px;\n",
              "    }\n",
              "\n",
              "    .colab-df-convert {\n",
              "      background-color: #E8F0FE;\n",
              "      border: none;\n",
              "      border-radius: 50%;\n",
              "      cursor: pointer;\n",
              "      display: none;\n",
              "      fill: #1967D2;\n",
              "      height: 32px;\n",
              "      padding: 0 0 0 0;\n",
              "      width: 32px;\n",
              "    }\n",
              "\n",
              "    .colab-df-convert:hover {\n",
              "      background-color: #E2EBFA;\n",
              "      box-shadow: 0px 1px 2px rgba(60, 64, 67, 0.3), 0px 1px 3px 1px rgba(60, 64, 67, 0.15);\n",
              "      fill: #174EA6;\n",
              "    }\n",
              "\n",
              "    [theme=dark] .colab-df-convert {\n",
              "      background-color: #3B4455;\n",
              "      fill: #D2E3FC;\n",
              "    }\n",
              "\n",
              "    [theme=dark] .colab-df-convert:hover {\n",
              "      background-color: #434B5C;\n",
              "      box-shadow: 0px 1px 3px 1px rgba(0, 0, 0, 0.15);\n",
              "      filter: drop-shadow(0px 1px 2px rgba(0, 0, 0, 0.3));\n",
              "      fill: #FFFFFF;\n",
              "    }\n",
              "  </style>\n",
              "\n",
              "      <script>\n",
              "        const buttonEl =\n",
              "          document.querySelector('#df-a34d4807-b6d3-45b7-b76e-735b57ef8dca button.colab-df-convert');\n",
              "        buttonEl.style.display =\n",
              "          google.colab.kernel.accessAllowed ? 'block' : 'none';\n",
              "\n",
              "        async function convertToInteractive(key) {\n",
              "          const element = document.querySelector('#df-a34d4807-b6d3-45b7-b76e-735b57ef8dca');\n",
              "          const dataTable =\n",
              "            await google.colab.kernel.invokeFunction('convertToInteractive',\n",
              "                                                     [key], {});\n",
              "          if (!dataTable) return;\n",
              "\n",
              "          const docLinkHtml = 'Like what you see? Visit the ' +\n",
              "            '<a target=\"_blank\" href=https://colab.research.google.com/notebooks/data_table.ipynb>data table notebook</a>'\n",
              "            + ' to learn more about interactive tables.';\n",
              "          element.innerHTML = '';\n",
              "          dataTable['output_type'] = 'display_data';\n",
              "          await google.colab.output.renderOutput(dataTable, element);\n",
              "          const docLink = document.createElement('div');\n",
              "          docLink.innerHTML = docLinkHtml;\n",
              "          element.appendChild(docLink);\n",
              "        }\n",
              "      </script>\n",
              "    </div>\n",
              "  </div>\n",
              "  "
            ]
          },
          "metadata": {},
          "execution_count": 42
        }
      ]
    },
    {
      "cell_type": "markdown",
      "source": [
        "**note** the out put summary statistics are now a new dataframe. (or series if only a single column) Thus you can assign them to a variable name and work with them like you would the orignal data."
      ],
      "metadata": {
        "id": "WGbKvKn2juSR"
      },
      "id": "WGbKvKn2juSR"
    },
    {
      "cell_type": "code",
      "source": [
        ""
      ],
      "metadata": {
        "id": "tfZvDQOuYZ0F"
      },
      "id": "tfZvDQOuYZ0F",
      "execution_count": null,
      "outputs": []
    },
    {
      "cell_type": "markdown",
      "source": [
        "#### 5.2.1 Action produce a box plot comparing  'Earth Crust Mean ppm' to 'Solar System Mean (ppm)'.\n",
        "\n",
        "**Note** when slicing a dataframe if you want to call multiple columns at a time you would type \n",
        "\n",
        "\n",
        "```\n",
        "dataframe[['column1','column2']]\n",
        "```\n",
        "\n",
        "This is a very pandas type of syntax, as other libaries use the [] differently."
      ],
      "metadata": {
        "id": "KtZNLoZGiohY"
      },
      "id": "KtZNLoZGiohY"
    },
    {
      "cell_type": "code",
      "source": [
        ""
      ],
      "metadata": {
        "id": "RYPM9idih032"
      },
      "id": "RYPM9idih032",
      "execution_count": null,
      "outputs": []
    },
    {
      "cell_type": "markdown",
      "source": [
        "#### 5.2.2 Action produce the summary statistics for each column.\n",
        "**Hint** do you need to run the command from **example 5.2.1** twice?"
      ],
      "metadata": {
        "id": "0oncCIZii_mJ"
      },
      "id": "0oncCIZii_mJ"
    },
    {
      "cell_type": "code",
      "source": [
        ""
      ],
      "metadata": {
        "id": "feD8uLd0jTU2"
      },
      "id": "feD8uLd0jTU2",
      "execution_count": null,
      "outputs": []
    },
    {
      "cell_type": "markdown",
      "source": [
        "### 5.2.3 Action save box plot and summary statistics dataframe"
      ],
      "metadata": {
        "id": "jjRlB7mFjUIw"
      },
      "id": "jjRlB7mFjUIw"
    },
    {
      "cell_type": "code",
      "source": [
        ""
      ],
      "metadata": {
        "id": "dugBWegykro0"
      },
      "id": "dugBWegykro0",
      "execution_count": null,
      "outputs": []
    }
  ],
  "metadata": {
    "kernelspec": {
      "display_name": "Python 3",
      "language": "python",
      "name": "python3"
    },
    "language_info": {
      "codemirror_mode": {
        "name": "ipython",
        "version": 3
      },
      "file_extension": ".py",
      "mimetype": "text/x-python",
      "name": "python",
      "nbconvert_exporter": "python",
      "pygments_lexer": "ipython3",
      "version": "3.8.8"
    },
    "colab": {
      "name": "Into_python_elemental abundance_07_student.ipynb",
      "provenance": [],
      "collapsed_sections": [],
      "toc_visible": true
    }
  },
  "nbformat": 4,
  "nbformat_minor": 5
}